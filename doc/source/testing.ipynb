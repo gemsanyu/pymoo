{
 "cells": [
  {
   "cell_type": "markdown",
   "metadata": {},
   "source": [
    ".. meta::\n",
    "   :description: A guide which introduces the most important steps to get started with pymoo, an open-source multi-objective optimization framework in Python."
   ]
  },
  {
   "cell_type": "markdown",
   "metadata": {},
   "source": [
    ".. meta::\n",
    "   :keywords: Multi-objective Optimization, Python, Evolutionary Computation, Optimization Test Problem, Hypervolume"
   ]
  },
  {
   "cell_type": "raw",
   "metadata": {
    "raw_mimetype": "text/restructuredtext"
   },
   "source": [
    ".. _nb_getting_started:"
   ]
  },
  {
   "cell_type": "code",
   "execution_count": 1,
   "metadata": {},
   "outputs": [],
   "source": [
    "import csv\n",
    "import numpy as np\n",
    "\n",
    "from pymoo.factory import get_problem\n",
    "from pymoo.optimize import minimize\n",
    "problem_list = [\"zdt1\",\"zdt2\",\"zdt3\",\"zdt4\",\"zdt5\",\"zdt6\",\n",
    "                \"wfg1\",\"wfg2\",\"wfg3\",\"wfg4\",\"wfg5\",\"wfg6\",\"wfg7\",\"wfg8\",\"wfg9\"]\n",
    "n_vars = [None, None, None, None, None, None, 8, 8, 8, 8, 8, 8, 8, 8, 8, 8]\n",
    "n_objs = [None, None, None, None, None, None, 2, 2, 2, 2, 2, 2, 2, 2, 2, 2]\n",
    "n_pareto_points = 1000\n",
    "\n",
    "from pymoo.performance_indicator.igd import IGD\n",
    "from pymoo.performance_indicator.hv import Hypervolume\n",
    "hv_ref_point = np.array([1.0, 1.0])\n",
    "\n",
    "#test function\n",
    "def test_alg(algorithm, n_runs, report_file_name):\n",
    "    with open(report_file_name, mode='w+') as result_file:\n",
    "        writer = csv.writer(result_file, delimiter=',', quotechar='\"', quoting=csv.QUOTE_MINIMAL)\n",
    "        writer.writerow([\"problem_name\", \"n_var\", \"n_obj\", \"n_eval\", \n",
    "                         \"mean_rt\", \"std_rt\",  \n",
    "                         \"mean_igd\", \"std_igd\", \"min_igd\", \"max_igd\", \n",
    "                         \"mean_hv\", \"std_hv\", \"min_hv\", \"max_hv\"])\n",
    "\n",
    "        for idx in range(len(problem_list)):\n",
    "            problem_name = problem_list[idx]\n",
    "            n_var = n_vars[idx]\n",
    "            n_obj = n_objs[idx]\n",
    "\n",
    "            if n_var is not None:\n",
    "                problem = get_problem(problem_name, n_var=n_var, n_obj=n_obj)\n",
    "            else:\n",
    "                problem = get_problem(problem_name)\n",
    "\n",
    "            igd_vals = np.array([])\n",
    "            hv_vals = np.array([])\n",
    "            exec_times = np.array([])\n",
    "\n",
    "            try:\n",
    "                pf = problem.pareto_front(n_pareto_points=n_pareto_points)\n",
    "            except:\n",
    "                pf = problem.pareto_front(n_points=n_pareto_points)\n",
    "\n",
    "            for r in range(n_runs):\n",
    "                res = minimize(problem, algorithm, (\"n_eval\", 25000), verbose=False)\n",
    "                igd_val = IGD(pf=pf, normalize=False).calc(res.F)\n",
    "                igd_vals = np.append(igd_vals, igd_val)\n",
    "\n",
    "                hv_val = Hypervolume(ref_point=hv_ref_point, normalize=True, pf=pf).calc(res.F)\n",
    "                hv_vals = np.append(hv_vals, hv_val)\n",
    "\n",
    "                exec_times = np.append(exec_times, res.exec_time)\n",
    "        \n",
    "            writer.writerow([problem_name, problem.n_var, problem.n_obj, 25000, \n",
    "                         np.mean(exec_times), np.std(exec_times),  \n",
    "                         np.mean(igd_vals), np.std(igd_vals), np.min(igd_vals), np.max(igd_vals),\n",
    "                         np.mean(hv_vals), np.std(hv_vals), np.min(hv_vals), np.max(hv_vals)] )     "
   ]
  },
  {
   "cell_type": "code",
   "execution_count": 2,
   "metadata": {},
   "outputs": [],
   "source": [
    "# #test nsga2\n",
    "# from pymoo.algorithms.nsga2 import NSGA2\n",
    "# from pymoo.operators.crossover.simulated_binary_crossover import SimulatedBinaryCrossover\n",
    "# from pymoo.operators.mutation.polynomial_mutation import PolynomialMutation\n",
    "\n",
    "# sbx = SimulatedBinaryCrossover(eta=20, prob=0.9)\n",
    "# pm = PolynomialMutation(prob=None, eta=20)\n",
    "# algorithm = NSGA2(crossover=sbx, mutation=pm)\n",
    "     \n",
    "# test_alg(algorithm, 1, \"nsga2.csv\")"
   ]
  },
  {
   "cell_type": "code",
   "execution_count": 3,
   "metadata": {},
   "outputs": [],
   "source": [
    "#test mocs"
   ]
  },
  {
   "cell_type": "code",
   "execution_count": 4,
   "metadata": {},
   "outputs": [],
   "source": [
    "#test mofpa"
   ]
  },
  {
   "cell_type": "code",
   "execution_count": 5,
   "metadata": {},
   "outputs": [
    {
     "name": "stderr",
     "output_type": "stream",
     "text": [
      "/home/gemilang/python/python-mop/src/mypymoo/pymoo/algorithms/moead_cs.py:145: RuntimeWarning: invalid value encountered in true_divide\n",
      "  cos = np.dot(f, w.T) / np.dot(np.linalg.norm(f, axis=1), np.linalg.norm(w, axis=1))\n"
     ]
    }
   ],
   "source": [
    "#test moead_cs\n",
    "from pymoo.algorithms.moead_cs import MOEAD_CS\n",
    "from pymoo.factory import get_problem, get_visualization, get_reference_directions\n",
    "from pymoo.optimize import minimize\n",
    "from pymoo.visualization.scatter import Scatter\n",
    "\n",
    "ref_dirs = get_reference_directions(\"das-dennis\", 2, n_partitions=99)\n",
    "algorithm = MOEAD_CS(ref_dirs=ref_dirs)\n",
    "\n",
    "test_alg(algorithm, 1, \"moead_cs.csv\")"
   ]
  },
  {
   "cell_type": "code",
   "execution_count": null,
   "metadata": {},
   "outputs": [],
   "source": [
    "A = np.array([1,2,3,4,5])\n",
    "B = np.array([2,2,4,5,6])\n",
    "worse = np.any(A > B)\n",
    "exist_better = np.any(A < B)\n",
    "print(not worse and exist_better)"
   ]
  }
 ],
 "metadata": {
  "celltoolbar": "Raw Cell Format",
  "kernelspec": {
   "display_name": "Python 3",
   "language": "python",
   "name": "python3"
  },
  "language_info": {
   "codemirror_mode": {
    "name": "ipython",
    "version": 3
   },
   "file_extension": ".py",
   "mimetype": "text/x-python",
   "name": "python",
   "nbconvert_exporter": "python",
   "pygments_lexer": "ipython3",
   "version": "3.6.12"
  }
 },
 "nbformat": 4,
 "nbformat_minor": 4
}
