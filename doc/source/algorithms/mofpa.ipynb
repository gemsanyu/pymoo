{
 "cells": [
  {
   "cell_type": "raw",
   "metadata": {
    "raw_mimetype": "text/restructuredtext"
   },
   "source": [
    ".. _nb_cs:"
   ]
  },
  {
   "cell_type": "markdown",
   "metadata": {},
   "source": [
    "## FPA\n",
    "\n",
    "This class represents standard Cuckoo Search based on the explanation in the [\\[book\\]](https://doi.org/10.1016/B978-0-12-416743-8.00009-9) Nature-Inspired Optimization Algorithms by Xin-She Yang and his implementation of standard Cuckoo Search in Matlab on [\\[mathworks\\]](https://www.mathworks.com/matlabcentral/fileexchange/29809-cuckoo-search-cs-algorithm). The implementation is slightly different to the flow of the algorithm described in the book. The figures below describe the pseudocode of the algorithm from the book, and the flow of the implementation. The GRW stands for Global Random Walk by Levy Flight, and the LRW stands for Local Random Walk.\n",
    "\n",
    "1) **Initial Population:**: A starting population is sampled in the beginning. In this framework, this can be either a [Sampling](../operators/sampling.ipynb) object, which defines different initial sampling strategies, or `Population` where the `X` and `F` values are set, or a simple NumPy array (pop_size x n_var).\n",
    "\n",
    "2) **Evaluation:** It is executed using the problem defined to be solved.\n",
    "\n",
    "3) **Survival:** The survival mechanism used is by default the survival of the fittest for the Elitism.\n",
    "\n",
    "4) **Global Random Walk:** The global random walks use a step size that is generated based on Levy Flight Distribution. Every dimension will have its own randomly generated step size on every operation. The Global Random Walk can be done following the book which to randomly choose solution $x_{i}$ which will be modified by Global Random Walk resulting in $x'_i$ and replace a randomly chosen solution $x_{j}$, if $x'_{i}$ is better than $x_{j}$. However for simplicity sake, as also been done in the matlab implementation, $x'_{i}$ will be compared to $x_{i}, \\forall i$ in every iteration. \n",
    "\n",
    "5) **Local Random Walk:** After the Global Random Walk has been done, including the replacement after improvement, every nest $x_i$ has a $p_a$ probability to create new solution via Local Ranom Walk $x'_i = x_i + \\alpha_0*(x_j-x_k)$ with $x_j$ and $x_k$ are two different randomly selected nest. Afterwards, combine the old nests with the new generated nests via Local Random Walks. The size of the combined nests will be pop_size $\\leq$ combined_pop_size $\\leq 2$pop_size. Survival mechanism thus will be used to select a number of pop_size best nests.\n",
    "\n"
   ]
  },
  {
   "cell_type": "markdown",
   "metadata": {},
   "source": [
    "<div style=\"display: block;margin-left: auto;margin-right: auto;width: 60%;\">\n",
    "![cs_pseudocode](../resources/images/cuckoo_search_pseudocode.png)\n",
    "</div>"
   ]
  },
  {
   "cell_type": "markdown",
   "metadata": {},
   "source": [
    "<div style=\"display: block;margin-left: auto;margin-right: auto;width: 60%;\">\n",
    "![cs_flow](../resources/images/cuckoo_search_flow.png)\n",
    "</div>"
   ]
  },
  {
   "cell_type": "markdown",
   "metadata": {},
   "source": [
    "### Example"
   ]
  },
  {
   "cell_type": "code",
   "execution_count": 43,
   "metadata": {},
   "outputs": [],
   "source": [
    "import numpy as np\n",
    "\n",
    "from pymoo.operators.mutation.polynomial_mutation import PolynomialMutation\n",
    "from pymoo.algorithms.so_cuckoo_search import MantegnasAlgorithm\n",
    "from pymoo.algorithms.nsga2 import RankAndCrowdingSurvival\n",
    "from pymoo.algorithms.so_fpa import FlowerPollinationAlgorithm\n",
    "from pymoo.decomposition.weighted_sum import WeightedSum\n",
    "from pymoo.docs import parse_doc_string\n",
    "from pymoo.model.infill import InfillCriterion\n",
    "from pymoo.model.population import Population\n",
    "from pymoo.model.replacement import ImprovementReplacement\n",
    "from pymoo.operators.repair.to_bound import set_to_bounds_if_outside\n",
    "from pymoo.operators.sampling.latin_hypercube_sampling import LHS\n",
    "from pymoo.util.reference_direction import sample_on_unit_simplex\n",
    "from pymoo.util.display import MultiObjectiveDisplay\n",
    "from pymoo.util.termination.default import MultiObjectiveDefaultTermination\n",
    "\n",
    "# =========================================================================================================\n",
    "# Implementation\n",
    "# =========================================================================================================\n",
    "class AdaptiveLevyFlight:\n",
    "    def __init__(self, alpha, beta):\n",
    "        self.alpha = alpha\n",
    "        #beta must be in range of [1..2]\n",
    "        beta = min(beta, 2)\n",
    "        beta = max(beta, 1)\n",
    "        self.beta = beta            \n",
    "        self.cauchy = np.random.default_rng().standard_cauchy\n",
    "        self.gaussian = np.random.default_rng().standard_normal        \n",
    "        self.levy = MantegnasAlgorithm(beta)        \n",
    "    \n",
    "    def _do(self, xr, xi, xl, xu):\n",
    "        # get random levy/cauchy/gaussian values to be used for the step size\n",
    "        if self.beta == 1:\n",
    "            levy = self.cauchy(len(xi))\n",
    "        elif self.beta == 2:\n",
    "            levy = self.gaussian(len(xi))\n",
    "        else:\n",
    "            levy = self.levy.do(len(xi))\n",
    "        direction = (xr-xi)\n",
    "        _x = xi + (xu - xl)*self.alpha * levy * direction        \n",
    "        return _x\n",
    "\n",
    "class LocalPollination:    \n",
    "    def _do(self, X, xi, xl, xu, n_offsprings):\n",
    "        #find n_offsprings*2 different solutions (n_offsprings pair) \n",
    "        Pair = np.random.permutation(X)[:2*n_offsprings]\n",
    "        R1, R2 = Pair[:n_offsprings], Pair[n_offsprings:2*n_offsprings]\n",
    "        _X = xi + 0.01*(R1-R2)        \n",
    "        return _X\n",
    "    \n",
    "class MO_ALFPA(FlowerPollinationAlgorithm):\n",
    "\n",
    "    def __init__(self,\n",
    "                 pop_size=100,\n",
    "                 alpha=0.1,\n",
    "                 mating=None,\n",
    "                 p=0.8,\n",
    "                 sampling=LHS(),\n",
    "                 termination=None,\n",
    "                 display=MultiObjectiveDisplay(),\n",
    "                 survival=RankAndCrowdingSurvival(),\n",
    "                 **kwargs):\n",
    "        \"\"\"\n",
    "\n",
    "        Parameters\n",
    "        ----------\n",
    "\n",
    "        sampling : {sampling}\n",
    "\n",
    "        termination : {termination}\n",
    "\n",
    "        pop_size : int\n",
    "         The number of solutions\n",
    "\n",
    "        beta : float\n",
    "            The input parameter of the Mantegna's Algorithm to simulate\n",
    "            sampling on Levy Distribution\n",
    "\n",
    "        alpha : float\n",
    "            The step size scaling factor and is usually 0.1.\n",
    "\n",
    "        pa : float\n",
    "            The switch probability, pa fraction of the nests will be abandoned on every iteration\n",
    "        \"\"\"\n",
    "        \n",
    "        super().__init__(pop_size=pop_size,\n",
    "                         sampling=sampling,\n",
    "                         termination=termination,\n",
    "                         display=display,\n",
    "                         mating=mating,\n",
    "                         survival=survival,\n",
    "                         **kwargs)\n",
    "        \n",
    "        cauchy = AdaptiveLevyFlight(alpha, 1)\n",
    "        gaussian = AdaptiveLevyFlight(alpha, 2)\n",
    "        levy1 = AdaptiveLevyFlight(alpha, 1.4)\n",
    "        levy2 = AdaptiveLevyFlight(alpha, 1.6)\n",
    "        lrw = LocalPollination()\n",
    "        self.mating = [cauchy, gaussian, levy1, levy2, lrw]\n",
    "        self.mutation = PolynomialMutation(prob=None, eta=10)\n",
    "        self.index = np.arange(self.pop_size)\n",
    "        \n",
    "        #estimate max_gen from max_eval\n",
    "        self.max_gen = 250\n",
    "        self.p0 = p\n",
    "        self.p = p\n",
    "        \n",
    "    def _next(self):\n",
    "        X = self.pop.get(\"X\")\n",
    "        F = self.pop.get(\"F\")\n",
    "        rank = self.pop.get(\"rank\")\n",
    "        xl, xu = self.problem.bounds()\n",
    "        offs = Population()\n",
    "        index_permute = np.random.permutation(self.index)[:int(self.pop_size/4)]\n",
    "        \n",
    "        for i in index_permute:\n",
    "            xi = X[i]\n",
    "            #pick operator GRW or LRW\n",
    "            #GRW = operators 1-4\n",
    "            #LRW = operator 5 with n_offsprings=4\n",
    "            _X = []\n",
    "            if np.random.rand() <= self.p:                \n",
    "                r = np.random.randint(self.pop_size)\n",
    "                xr = np.random.permutation(X[rank==0])[0]\n",
    "                for op in range(4):\n",
    "                    _x = self.mating[op]._do(xr, xi, xl, xu)\n",
    "                    _X = _X + [_x]                \n",
    "            else:\n",
    "                _X = self.mating[4]._do(X, xi, xl, xu, 4)\n",
    "            _X = self.mutation._do(self.problem, np.array(_X))\n",
    "            off = Population.new(X=_X)\n",
    "            offs = Population.merge(offs, off)        \n",
    "        # replace the individuals in the population\n",
    "        self.evaluator.eval(self.problem, offs, algorithm=self)\n",
    "        self.pop = Population.merge(self.pop, offs)\n",
    "        self.pop = self.survival._do(self.problem, self.pop, self.pop_size)\n",
    "        \n",
    "        #updating p\n",
    "        self.p = self.p0 - 0.3*(self.n_gen/self.max_gen)\n",
    "\n",
    "parse_doc_string(MO_ALFPA.__init__)\n"
   ]
  },
  {
   "cell_type": "code",
   "execution_count": 46,
   "metadata": {
    "code": "algorithms/usage_ga.py",
    "scrolled": true
   },
   "outputs": [
    {
     "name": "stdout",
     "output_type": "stream",
     "text": [
      "9.797494173049927\n"
     ]
    },
    {
     "data": {
      "image/png": "[encoded data removed]",
      "text/plain": [
       "<Figure size 576x432 with 1 Axes>"
      ]
     },
     "metadata": {
      "needs_background": "light"
     },
     "output_type": "display_data"
    }
   ],
   "source": [
    "# from pymoo.algorithms.mofpa import MOFPA\n",
    "from pymoo.factory import get_problem, get_reference_directions\n",
    "from pymoo.optimize import minimize\n",
    "from pymoo.visualization.scatter import Scatter\n",
    "from pymoo.algorithms.nsga3 import ReferenceDirectionSurvival\n",
    "\n",
    "problem = get_problem(\"zdt4\")\n",
    "n_obj=2\n",
    "ref_dirs = get_reference_directions(\"das-dennis\", n_obj, n_partitions=12)\n",
    "survival = ReferenceDirectionSurvival(ref_dirs)\n",
    "algorithm = MO_ALFPA()\n",
    "\n",
    "res = minimize(problem, algorithm, ('n_gen', 200), verbose=False)\n",
    "\n",
    "print(res.exec_time)\n",
    "if n_obj == 2:\n",
    "    plot = Scatter()\n",
    "    plot.add(problem.pareto_front(), plot_type=\"line\", color=\"black\", alpha=0.7)\n",
    "    plot.add(res.F, color=\"red\")\n",
    "    plot.show()\n",
    "else:\n",
    "    plot = Scatter().add(res.F)\n",
    "    plot.show()"
   ]
  },
  {
   "cell_type": "markdown",
   "metadata": {},
   "source": [
    "### API"
   ]
  },
  {
   "cell_type": "code",
   "execution_count": null,
   "metadata": {},
   "outputs": [],
   "source": [
    "import numpy as np\n",
    "from scipy.spatial.distance import cdist\n",
    "\n"
   ]
  },
  {
   "cell_type": "raw",
   "metadata": {
    "raw_mimetype": "text/restructuredtext"
   },
   "source": [
    ".. autofunction:: pymoo.algorithms.so_cuckoo_search.CuckooSearch\n",
    "    :noindex:"
   ]
  }
 ],
 "metadata": {
  "celltoolbar": "Raw Cell Format",
  "kernelspec": {
   "display_name": "Python 3",
   "language": "python",
   "name": "python3"
  },
  "language_info": {
   "codemirror_mode": {
    "name": "ipython",
    "version": 3
   },
   "file_extension": ".py",
   "mimetype": "text/x-python",
   "name": "python",
   "nbconvert_exporter": "python",
   "pygments_lexer": "ipython3",
   "version": "3.8.5"
  }
 },
 "nbformat": 4,
 "nbformat_minor": 4
}
