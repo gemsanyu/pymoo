{
 "cells": [
  {
   "cell_type": "raw",
   "metadata": {
    "raw_mimetype": "text/restructuredtext"
   },
   "source": [
    ".. _nb_cs:"
   ]
  },
  {
   "cell_type": "markdown",
   "metadata": {},
   "source": [
    "## FPA\n",
    "\n",
    "This class represents standard Cuckoo Search based on the explanation in the [\\[book\\]](https://doi.org/10.1016/B978-0-12-416743-8.00009-9) Nature-Inspired Optimization Algorithms by Xin-She Yang and his implementation of standard Cuckoo Search in Matlab on [\\[mathworks\\]](https://www.mathworks.com/matlabcentral/fileexchange/29809-cuckoo-search-cs-algorithm). The implementation is slightly different to the flow of the algorithm described in the book. The figures below describe the pseudocode of the algorithm from the book, and the flow of the implementation. The GRW stands for Global Random Walk by Levy Flight, and the LRW stands for Local Random Walk.\n",
    "\n",
    "1) **Initial Population:**: A starting population is sampled in the beginning. In this framework, this can be either a [Sampling](../operators/sampling.ipynb) object, which defines different initial sampling strategies, or `Population` where the `X` and `F` values are set, or a simple NumPy array (pop_size x n_var).\n",
    "\n",
    "2) **Evaluation:** It is executed using the problem defined to be solved.\n",
    "\n",
    "3) **Survival:** The survival mechanism used is by default the survival of the fittest for the Elitism.\n",
    "\n",
    "4) **Global Random Walk:** The global random walks use a step size that is generated based on Levy Flight Distribution. Every dimension will have its own randomly generated step size on every operation. The Global Random Walk can be done following the book which to randomly choose solution $x_{i}$ which will be modified by Global Random Walk resulting in $x'_i$ and replace a randomly chosen solution $x_{j}$, if $x'_{i}$ is better than $x_{j}$. However for simplicity sake, as also been done in the matlab implementation, $x'_{i}$ will be compared to $x_{i}, \\forall i$ in every iteration. \n",
    "\n",
    "5) **Local Random Walk:** After the Global Random Walk has been done, including the replacement after improvement, every nest $x_i$ has a $p_a$ probability to create new solution via Local Ranom Walk $x'_i = x_i + \\alpha_0*(x_j-x_k)$ with $x_j$ and $x_k$ are two different randomly selected nest. Afterwards, combine the old nests with the new generated nests via Local Random Walks. The size of the combined nests will be pop_size $\\leq$ combined_pop_size $\\leq 2$pop_size. Survival mechanism thus will be used to select a number of pop_size best nests.\n",
    "\n"
   ]
  },
  {
   "cell_type": "markdown",
   "metadata": {},
   "source": [
    "<div style=\"display: block;margin-left: auto;margin-right: auto;width: 60%;\">\n",
    "![cs_pseudocode](../resources/images/cuckoo_search_pseudocode.png)\n",
    "</div>"
   ]
  },
  {
   "cell_type": "markdown",
   "metadata": {},
   "source": [
    "<div style=\"display: block;margin-left: auto;margin-right: auto;width: 60%;\">\n",
    "![cs_flow](../resources/images/cuckoo_search_flow.png)\n",
    "</div>"
   ]
  },
  {
   "cell_type": "markdown",
   "metadata": {},
   "source": [
    "### Example"
   ]
  },
  {
   "cell_type": "code",
   "execution_count": 301,
   "metadata": {},
   "outputs": [],
   "source": [
    "import numpy as np\n",
    "\n",
    "from pymoo.algorithms.so_cuckoo_search import MantegnasAlgorithm\n",
    "from pymoo.algorithms.nsga2 import RankAndCrowdingSurvival\n",
    "from pymoo.algorithms.so_fpa import FlowerPollinationAlgorithm\n",
    "from pymoo.decomposition.weighted_sum import WeightedSum\n",
    "from pymoo.docs import parse_doc_string\n",
    "from pymoo.model.infill import InfillCriterion\n",
    "from pymoo.model.population import Population\n",
    "from pymoo.model.replacement import ImprovementReplacement\n",
    "from pymoo.operators.repair.to_bound import set_to_bounds_if_outside\n",
    "from pymoo.operators.sampling.latin_hypercube_sampling import LHS\n",
    "from pymoo.util.reference_direction import sample_on_unit_simplex\n",
    "from pymoo.util.display import MultiObjectiveDisplay\n",
    "from pymoo.util.termination.default import MultiObjectiveDefaultTermination\n",
    "\n",
    "# =========================================================================================================\n",
    "# Implementation\n",
    "# =========================================================================================================\n",
    "class AdaptiveLevyFlight:\n",
    "    def __init__(self, alpha, beta):\n",
    "        self.alpha = alpha\n",
    "        #beta must be in range of [1..2]\n",
    "        beta = min(beta, 2)\n",
    "        beta = max(beta, 1)\n",
    "        self.beta = beta            \n",
    "        self.cauchy = np.random.default_rng().standard_cauchy\n",
    "        self.gaussian = np.random.default_rng().standard_normal        \n",
    "        self.levy = MantegnasAlgorithm(beta)        \n",
    "    \n",
    "    def _do(self, xr, xi, xl, xu):\n",
    "        # get random levy/cauchy/gaussian values to be used for the step size\n",
    "        if self.beta == 1:\n",
    "            levy = self.cauchy(len(xi))\n",
    "        elif self.beta == 2:\n",
    "            levy = self.gaussian(len(xi))\n",
    "        else:\n",
    "            levy = self.levy.do(len(xi))\n",
    "        direction = (xr-xi)\n",
    "        _x = xi + (xu - xl)*self.alpha * levy * direction        \n",
    "        return _x\n",
    "\n",
    "class LocalPollination:    \n",
    "    def _do(self, X, xi, xl, xu, n_offsprings):\n",
    "        #find n_offsprings*2 different solutions (n_offsprings pair) \n",
    "        Pair = np.random.permutation(X)[:2*n_offsprings]\n",
    "        R1, R2 = Pair[:n_offsprings], Pair[n_offsprings:2*n_offsprings]\n",
    "        r = np.random.rand()\n",
    "        _X = xi + r*(R1-R2)        \n",
    "        return _X\n",
    "    \n",
    "class MO_ALFPA(FlowerPollinationAlgorithm):\n",
    "\n",
    "    def __init__(self,\n",
    "                 pop_size=100,\n",
    "                 alpha=0.1,\n",
    "                 mating=None,\n",
    "                 p=0.8,\n",
    "                 e=0.05,\n",
    "                 sampling=LHS(),\n",
    "                 termination=None,\n",
    "                 display=MultiObjectiveDisplay(),\n",
    "                 survival=RankAndCrowdingSurvival(),\n",
    "                 **kwargs):\n",
    "        \"\"\"\n",
    "\n",
    "        Parameters\n",
    "        ----------\n",
    "\n",
    "        sampling : {sampling}\n",
    "\n",
    "        termination : {termination}\n",
    "\n",
    "        pop_size : int\n",
    "         The number of solutions\n",
    "\n",
    "        beta : float\n",
    "            The input parameter of the Mantegna's Algorithm to simulate\n",
    "            sampling on Levy Distribution\n",
    "\n",
    "        alpha : float\n",
    "            The step size scaling factor and is usually 0.1.\n",
    "\n",
    "        pa : float\n",
    "            The switch probability, pa fraction of the nests will be abandoned on every iteration\n",
    "        \"\"\"\n",
    "        \n",
    "        super().__init__(pop_size=pop_size,\n",
    "                         sampling=sampling,\n",
    "                         termination=termination,\n",
    "                         display=display,\n",
    "                         mating=mating,\n",
    "                         survival=survival,\n",
    "                         **kwargs)\n",
    "        \n",
    "        cauchy = AdaptiveLevyFlight(alpha, 1)\n",
    "        gaussian = AdaptiveLevyFlight(alpha, 2)\n",
    "        levy1 =  AdaptiveLevyFlight(alpha, 1.3)\n",
    "        levy2 = AdaptiveLevyFlight(alpha, 1.7)\n",
    "        lrw = LocalPollination()\n",
    "        self.mating = [cauchy, gaussian, levy1, levy2, lrw]\n",
    "        self.index = np.arange(self.pop_size)\n",
    "        self.e = e\n",
    "        \n",
    "        #estimate max_gen from max_eval\n",
    "        self.max_gen = 25000/(self.pop_size)\n",
    "        self.p0 = p\n",
    "        self.p = p\n",
    "    \n",
    "    def _initialize(self):\n",
    "        super()._initialize()\n",
    "        self.ideal_point = np.min(self.pop.get(\"F\"), axis=0)\n",
    "        self.opt = self.survival._do(self.problem, self.pop, self.pop_size)\n",
    "        self.opt = self.opt[self.opt.get(\"rank\")==0]\n",
    "        \n",
    "    def _set_optimum(self):\n",
    "        return\n",
    "    \n",
    "    def _is_e_dominate(self, fa, Fb):\n",
    "        #get box\n",
    "        ba = self.e*np.floor((fa-self.ideal_point)/ self.e) \n",
    "        Bb = self.e*np.floor((Fb-self.ideal_point)/ self.e)\n",
    "        #check if exist a box of Bb dominates box ba\n",
    "        #if exist then not inserting\n",
    "        #b_not_worse = np.all(Bb <= ba, axis=1)\n",
    "        #b_better = np.any(Bb < ba, axis=1)\n",
    "        #b_dominate = np.logical_and(b_not_worse, b_better)\n",
    "        exist_b_dominate = np.any(np.logical_and(np.all(Bb<=ba, axis=1), np.any(Bb < ba, axis=1)))\n",
    "        if exist_b_dominate:\n",
    "            return\n",
    "\n",
    "        #check all boxes Bb dominated by ba\n",
    "        ba_dominate = np.logical_and(np.all(ba <= Bb, axis=1), np.any(ba < Bb, axis=1))\n",
    "        #check all boxes Bb same as ba\n",
    "        same_box = np.all(ba == Bb, axis=1)\n",
    "\n",
    "        #if ba doesn't dominate any box and there isn't the same box then just insert and return\n",
    "        if not np.any(ba_dominate) and not np.any(same_box):        \n",
    "            return None\n",
    "\n",
    "        #then handle all other cases\n",
    "        #if same box check if fa dominates Fb\n",
    "        fa_dominate = np.logical_and(np.all(fa <= Fb, axis=1), np.any(fa < Fb, axis=1))\n",
    "        #if same box check if fa is dominated by Fb\n",
    "        Fb_dominate = np.logical_and(np.all(Fb <= fa, axis=1), np.any(Fb < fa, axis=1))\n",
    "        #calculate distance to own boxes\n",
    "        distA = np.linalg.norm(fa-ba)\n",
    "        distB = np.linalg.norm(Fb-Bb)\n",
    "        #check distance to boxes is closer\n",
    "        closer_to_box = distA < distB\n",
    "\n",
    "        dominate_or_closer = np.logical_or(fa_dominate, closer_to_box)\n",
    "        same_box_and_dominate_or_closer = np.logical_and(same_box, dominate_or_closer)\n",
    "        fa_e_dominate = np.logical_or(ba_dominate, same_box_and_dominate_or_closer)\n",
    "        return fa_e_dominate\n",
    "    \n",
    "    def _insert_to_opt(self, offs):        \n",
    "        _F = offs.get(\"F\")\n",
    "        F = self.opt.get(\"F\")\n",
    "        \n",
    "        for idx in range(len(_F)):\n",
    "            _f = _F[idx]\n",
    "            I = self._is_e_dominate(_f, F)\n",
    "            if I is None: #_f is box-dominated\n",
    "                continue\n",
    "            #else, no solution in F e-dominated _f \n",
    "            #delete e-dominated solutions\n",
    "            F = np.vstack((F[~I], _f))\n",
    "            self.opt = Population.merge(self.opt[~I], offs[idx])\n",
    "           \n",
    "    def _next(self):\n",
    "        X = self.pop.get(\"X\")\n",
    "        F = self.pop.get(\"F\")\n",
    "        rank = self.pop.get(\"rank\")\n",
    "        xl, xu = self.problem.bounds()\n",
    "        offs = Population()\n",
    "        index_permute = np.random.permutation(self.index)[:int(self.pop_size/4)]\n",
    "        \n",
    "        for i in index_permute:\n",
    "            xi = X[i]\n",
    "            #pick operator GRW or LRW\n",
    "            #GRW = operators 1-4\n",
    "            #LRW = operator 5 with n_offsprings=4\n",
    "            _X = []\n",
    "            if np.random.rand() <= self.p:                \n",
    "                r = np.random.randint(self.pop_size)\n",
    "                xr = np.random.permutation(X[rank==0])[0]\n",
    "                for op in range(4):\n",
    "                    _x = self.mating[op]._do(xr, xi, xl, xu)\n",
    "                    _X = _X + [_x]                \n",
    "            else:\n",
    "                _X = self.mating[4]._do(X, xi, xl, xu, 4)\n",
    "            _X = set_to_bounds_if_outside(np.array(_X), xl, xu)\n",
    "            off = Population.new(X=_X)\n",
    "            offs = Population.merge(offs, off)        \n",
    "                \n",
    "        # replace the individuals in the population\n",
    "        self.evaluator.eval(self.problem, offs, algorithm=self)\n",
    "        self._insert_to_opt(offs)\n",
    "        self.pop = Population.merge(self.pop, offs)\n",
    "        self.pop = self.survival._do(self.problem, self.pop, self.pop_size)\n",
    "        self.ideal_point = np.min(self.pop.get(\"F\"), axis=0)\n",
    "        #updating p\n",
    "        self.p = self.p0 - 0.3*(self.n_gen/self.max_gen)\n",
    "\n",
    "parse_doc_string(MO_ALFPA.__init__)\n"
   ]
  },
  {
   "cell_type": "code",
   "execution_count": 314,
   "metadata": {
    "code": "algorithms/usage_ga.py"
   },
   "outputs": [
    {
     "name": "stdout",
     "output_type": "stream",
     "text": [
      "2.6513772010803223\n"
     ]
    },
    {
     "data": {
      "image/png": "[encoded data removed]",
      "text/plain": [
       "<Figure size 432x288 with 1 Axes>"
      ]
     },
     "metadata": {
      "needs_background": "light"
     },
     "output_type": "display_data"
    }
   ],
   "source": [
    "# from pymoo.algorithms.mofpa import MOFPA\n",
    "from pymoo.factory import get_problem\n",
    "from pymoo.optimize import minimize\n",
    "from pymoo.visualization.scatter import Scatter\n",
    "\n",
    "problem = get_problem(\"zdt1\")\n",
    "n_obj=2\n",
    "algorithm = MO_ALFPA(e=0.01)\n",
    "\n",
    "res = minimize(problem, algorithm, ('n_gen', 100), seed=1, verbose=False, save_history=True)\n",
    "\n",
    "print(res.exec_time)\n",
    "# if n_obj == 2:\n",
    "#     plot = Scatter()\n",
    "#     plot.add(problem.pareto_front(), plot_type=\"line\", color=\"black\", alpha=0.7)\n",
    "#     plot.add(res.opt.get(\"F\"), color=\"red\")\n",
    "#     plot.show()\n",
    "# else:\n",
    "#     plot = Scatter().add(res.F)\n",
    "#     plot.show()\n",
    "\n",
    "\n",
    "import matplotlib.pyplot as plt\n",
    "import matplotlib.animation as animation\n",
    "\n",
    "fig2 = plt.figure()\n",
    "def animate(i):\n",
    "    if (i>0):\n",
    "        _F = res.history[i-1].opt.get(\"F\")\n",
    "    else:\n",
    "        _F = None\n",
    "    F = res.history[i].opt.get(\"F\")\n",
    "    plt.clf()\n",
    "    \n",
    "    if _F is not None:\n",
    "        return plt.scatter(_F[:,0], _F[:,1], color=\"blue\"), plt.scatter(F[:,0], F[:,1], color=\"red\"), \n",
    "    else:\n",
    "        return plt.scatter(F[:,0], F[:,1], color=\"red\"),\n",
    "im_ani = animation.FuncAnimation(fig2, animate, interval=5000, blit=True)\n",
    "im_ani.save('test.gif')\n",
    "plt.show()\n"
   ]
  },
  {
   "cell_type": "code",
   "execution_count": null,
   "metadata": {},
   "outputs": [],
   "source": [
    "import numpy as np\n",
    "from scipy.spatial.distance import cdist\n",
    "A = np.array([1,2])\n",
    "B = np.array([3,4])\n",
    "print(np.linalg.norm(A-B))\n",
    "print(np.sqrt(8))"
   ]
  },
  {
   "cell_type": "code",
   "execution_count": 298,
   "metadata": {},
   "outputs": [],
   "source": [
    "A = np.array([[x*0.05, 1-x*0.05] for x in range(100)])"
   ]
  },
  {
   "cell_type": "code",
   "execution_count": 300,
   "metadata": {},
   "outputs": [
    {
     "data": {
      "image/png": "[encoded data removed]",
      "text/plain": [
       "<Figure size 432x288 with 1 Axes>"
      ]
     },
     "metadata": {
      "needs_background": "light"
     },
     "output_type": "display_data"
    },
    {
     "name": "stdout",
     "output_type": "stream",
     "text": [
      "[False False False False False  True  True  True  True  True  True  True\n",
      "  True  True  True  True False False False False False False False False\n",
      " False False False False False False False False False False False False\n",
      " False False False False False False False False False False False False\n",
      " False False False False False False False False False False False False\n",
      " False False False False False False False False False False False False\n",
      " False False False False False False False False False False False False\n",
      " False False False False False False False False False False False False\n",
      " False False False False]\n"
     ]
    },
    {
     "data": {
      "image/png": "[encoded data removed]",
      "text/plain": [
       "<Figure size 432x288 with 1 Axes>"
      ]
     },
     "metadata": {
      "needs_background": "light"
     },
     "output_type": "display_data"
    }
   ],
   "source": [
    "B = np.array([0.25, 0.2])\n",
    "ideal_point = np.array([0, 0])\n",
    "e = 0.05\n",
    "def is_e_dominate(fa, Fb):\n",
    "    #get box\n",
    "    ba = e*np.floor((fa-ideal_point)/ e) \n",
    "    Bb = e*np.floor((Fb-ideal_point)/ e)\n",
    "    #check if exist a box of Bb dominates box ba\n",
    "    #if exist then not inserting\n",
    "    #b_not_worse = np.all(Bb <= ba, axis=1)\n",
    "    #b_better = np.any(Bb < ba, axis=1)\n",
    "    #b_dominate = np.logical_and(b_not_worse, b_better)\n",
    "    exist_b_dominate = np.any(np.logical_and(np.all(Bb<=ba, axis=1), np.any(Bb < ba, axis=1)))\n",
    "    if exist_b_dominate:\n",
    "        return\n",
    "    \n",
    "    #check all boxes Bb dominated by ba\n",
    "    ba_dominate = np.logical_and(np.all(ba <= Bb, axis=1), np.any(ba < Bb, axis=1))\n",
    "    #check all boxes Bb same as ba\n",
    "    same_box = np.all(ba == Bb, axis=1)\n",
    "    \n",
    "    #if ba doesn't dominate any box and there isn't the same box then just insert and return\n",
    "    if not np.any(ba_dominate) and not np.any(same_box):\n",
    "        #insert\n",
    "        return \n",
    "    \n",
    "    #then handle all other cases\n",
    "    #if same box check if fa dominates Fb\n",
    "    fa_dominate = np.logical_and(np.all(fa <= Fb, axis=1), np.any(fa < Fb, axis=1))\n",
    "    #if same box check if fa is dominated by Fb\n",
    "    Fb_dominate = np.logical_and(np.all(Fb <= fa, axis=1), np.any(Fb < fa, axis=1))\n",
    "    #calculate distance to own boxes\n",
    "    distA = np.linalg.norm(fa-ba)\n",
    "    distB = np.linalg.norm(Fb-Bb)\n",
    "    #check distance to boxes is closer\n",
    "    closer_to_box = distA < distB\n",
    "    \n",
    "    dominate_or_closer = np.logical_or(fa_dominate, closer_to_box)\n",
    "    same_box_and_dominate_or_closer = np.logical_and(same_box, dominate_or_closer)\n",
    "    fa_e_dominate = np.logical_or(ba_dominate, same_box_and_dominate_or_closer)\n",
    "    return fa_e_dominate\n",
    "    #mask the opt and then insert\n",
    "\n",
    "import matplotlib.pyplot as plt\n",
    "plt.scatter(A[:,0], A[:, 1])\n",
    "plt.scatter(B[0],B[1])\n",
    "plt.show()\n",
    "\n",
    "I = is_e_dominate(B,A)\n",
    "print(I)\n",
    "if I is not None:\n",
    "    C = A[~is_e_dominate(B,A)]\n",
    "    plt.scatter(C[:,0],C[:,1])\n",
    "    plt.scatter(B[0],B[1])\n",
    "    plt.show()"
   ]
  },
  {
   "cell_type": "code",
   "execution_count": 167,
   "metadata": {},
   "outputs": [
    {
     "name": "stdout",
     "output_type": "stream",
     "text": [
      "[[1 2 3]\n",
      " [1 3 3]\n",
      " [1 2 2]]\n",
      "[ True False False]\n",
      "5.0\n",
      "[5.]\n"
     ]
    }
   ],
   "source": [
    "C = np.array([[1,2,3],[1,3,3]])\n",
    "C = np.vstack((C, np.array([1,2,2])))\n",
    "print(C)\n",
    "D = np.array([1,2,3])\n",
    "print(np.all(C==D, axis=1))\n",
    "print(np.divide(0.25,0.05))\n",
    "F = np.array([0.25])\n",
    "N = np.array([0.])\n",
    "print(np.floor((F-N)/0.05))"
   ]
  },
  {
   "cell_type": "markdown",
   "metadata": {},
   "source": [
    "### API"
   ]
  },
  {
   "cell_type": "raw",
   "metadata": {
    "raw_mimetype": "text/restructuredtext"
   },
   "source": [
    ".. autofunction:: pymoo.algorithms.so_cuckoo_search.CuckooSearch\n",
    "    :noindex:"
   ]
  }
 ],
 "metadata": {
  "celltoolbar": "Raw Cell Format",
  "kernelspec": {
   "display_name": "Python 3",
   "language": "python",
   "name": "python3"
  },
  "language_info": {
   "codemirror_mode": {
    "name": "ipython",
    "version": 3
   },
   "file_extension": ".py",
   "mimetype": "text/x-python",
   "name": "python",
   "nbconvert_exporter": "python",
   "pygments_lexer": "ipython3",
   "version": "3.6.12"
  }
 },
 "nbformat": 4,
 "nbformat_minor": 4
}
