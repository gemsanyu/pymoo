{
 "cells": [
  {
   "cell_type": "raw",
   "metadata": {
    "raw_mimetype": "text/restructuredtext"
   },
   "source": [
    ".. _nb_cs:"
   ]
  },
  {
   "cell_type": "markdown",
   "metadata": {},
   "source": [
    "## FPA\n",
    "\n",
    "This class represents standard Cuckoo Search based on the explanation in the [\\[book\\]](https://doi.org/10.1016/B978-0-12-416743-8.00009-9) Nature-Inspired Optimization Algorithms by Xin-She Yang and his implementation of standard Cuckoo Search in Matlab on [\\[mathworks\\]](https://www.mathworks.com/matlabcentral/fileexchange/29809-cuckoo-search-cs-algorithm). The implementation is slightly different to the flow of the algorithm described in the book. The figures below describe the pseudocode of the algorithm from the book, and the flow of the implementation. The GRW stands for Global Random Walk by Levy Flight, and the LRW stands for Local Random Walk.\n",
    "\n",
    "1) **Initial Population:**: A starting population is sampled in the beginning. In this framework, this can be either a [Sampling](../operators/sampling.ipynb) object, which defines different initial sampling strategies, or `Population` where the `X` and `F` values are set, or a simple NumPy array (pop_size x n_var).\n",
    "\n",
    "2) **Evaluation:** It is executed using the problem defined to be solved.\n",
    "\n",
    "3) **Survival:** The survival mechanism used is by default the survival of the fittest for the Elitism.\n",
    "\n",
    "4) **Global Random Walk:** The global random walks use a step size that is generated based on Levy Flight Distribution. Every dimension will have its own randomly generated step size on every operation. The Global Random Walk can be done following the book which to randomly choose solution $x_{i}$ which will be modified by Global Random Walk resulting in $x'_i$ and replace a randomly chosen solution $x_{j}$, if $x'_{i}$ is better than $x_{j}$. However for simplicity sake, as also been done in the matlab implementation, $x'_{i}$ will be compared to $x_{i}, \\forall i$ in every iteration. \n",
    "\n",
    "5) **Local Random Walk:** After the Global Random Walk has been done, including the replacement after improvement, every nest $x_i$ has a $p_a$ probability to create new solution via Local Ranom Walk $x'_i = x_i + \\alpha_0*(x_j-x_k)$ with $x_j$ and $x_k$ are two different randomly selected nest. Afterwards, combine the old nests with the new generated nests via Local Random Walks. The size of the combined nests will be pop_size $\\leq$ combined_pop_size $\\leq 2$pop_size. Survival mechanism thus will be used to select a number of pop_size best nests.\n",
    "\n"
   ]
  },
  {
   "cell_type": "markdown",
   "metadata": {},
   "source": [
    "<div style=\"display: block;margin-left: auto;margin-right: auto;width: 60%;\">\n",
    "![cs_pseudocode](../resources/images/cuckoo_search_pseudocode.png)\n",
    "</div>"
   ]
  },
  {
   "cell_type": "markdown",
   "metadata": {},
   "source": [
    "<div style=\"display: block;margin-left: auto;margin-right: auto;width: 60%;\">\n",
    "![cs_flow](../resources/images/cuckoo_search_flow.png)\n",
    "</div>"
   ]
  },
  {
   "cell_type": "markdown",
   "metadata": {},
   "source": [
    "### Example"
   ]
  },
  {
   "cell_type": "code",
   "execution_count": 1,
   "metadata": {
    "code": "algorithms/usage_ga.py",
    "scrolled": true
   },
   "outputs": [
    {
     "name": "stdout",
     "output_type": "stream",
     "text": [
      "250\n"
     ]
    },
    {
     "name": "stderr",
     "output_type": "stream",
     "text": [
      "/home/gemilang/pmop/pymoo/pymoo/operators/mutation/polynomial_mutation.py:47: RuntimeWarning: invalid value encountered in power\n",
      "  d = np.power(val, mut_pow) - 1.0\n",
      "/home/gemilang/pmop/pymoo/pymoo/operators/mutation/polynomial_mutation.py:52: RuntimeWarning: invalid value encountered in power\n",
      "  d = 1.0 - (np.power(val, mut_pow))\n"
     ]
    },
    {
     "data": {
      "image/png": "[encoded data removed]",
      "text/plain": [
       "<Figure size 576x432 with 1 Axes>"
      ]
     },
     "metadata": {
      "needs_background": "light"
     },
     "output_type": "display_data"
    }
   ],
   "source": [
    "from pymoo.algorithms.mo_alfpa import MO_ALFPA\n",
    "from pymoo.factory import get_problem, get_visualization, get_reference_directions\n",
    "from pymoo.optimize import minimize\n",
    "from pymoo.visualization.scatter import Scatter\n",
    "from pymoo.decomposition.tchebicheff import Tchebicheff\n",
    "\n",
    "problem = get_problem(\"zdt4\")\n",
    "n_obj = 2\n",
    "ref_dirs = get_reference_directions(\"das-dennis\", n_obj, n_partitions=15)\n",
    "algorithm = MO_ALFPA()\n",
    "\n",
    "res = minimize(problem, algorithm, ('n_eval', 25000), verbose=False)\n",
    "\n",
    "if n_obj == 2:\n",
    "    plot = Scatter()\n",
    "    plot.add(problem.pareto_front(), plot_type=\"line\", color=\"black\", alpha=0.7)\n",
    "    plot.add(res.F, color=\"red\")\n",
    "    plot.show()\n",
    "else:\n",
    "    plot = Scatter().add(res.F)\n",
    "    plot.show()"
   ]
  },
  {
   "cell_type": "code",
   "execution_count": 4,
   "metadata": {},
   "outputs": [
    {
     "name": "stdout",
     "output_type": "stream",
     "text": [
      "16.23816990852356\n"
     ]
    }
   ],
   "source": [
    "print(res.exec_time)"
   ]
  },
  {
   "cell_type": "code",
   "execution_count": 22,
   "metadata": {},
   "outputs": [
    {
     "name": "stdout",
     "output_type": "stream",
     "text": [
      "[4 3 2 0 4 0 3 3 4 3]\n",
      "[2. 0. 1. 4. 3.]\n",
      "[ 0.  0.  2. 12. 12.]\n"
     ]
    }
   ],
   "source": [
    "import numpy as np\n",
    "A = np.random.randint(5, size=10)\n",
    "idx = np.arange(5)\n",
    "idx = np.tile(idx, (len(A),1)).T\n",
    "print(A)\n",
    "mask = (A==idx).astype(dtype='float')\n",
    "print(np.sum(mask, axis=1))\n",
    "print(np.dot(mask, A.T))"
   ]
  },
  {
   "cell_type": "markdown",
   "metadata": {},
   "source": [
    "### API"
   ]
  },
  {
   "cell_type": "raw",
   "metadata": {
    "raw_mimetype": "text/restructuredtext"
   },
   "source": [
    ".. autofunction:: pymoo.algorithms.so_cuckoo_search.CuckooSearch\n",
    "    :noindex:"
   ]
  }
 ],
 "metadata": {
  "celltoolbar": "Raw Cell Format",
  "kernelspec": {
   "display_name": "Python 3",
   "language": "python",
   "name": "python3"
  },
  "language_info": {
   "codemirror_mode": {
    "name": "ipython",
    "version": 3
   },
   "file_extension": ".py",
   "mimetype": "text/x-python",
   "name": "python",
   "nbconvert_exporter": "python",
   "pygments_lexer": "ipython3",
   "version": "3.8.5"
  }
 },
 "nbformat": 4,
 "nbformat_minor": 4
}
