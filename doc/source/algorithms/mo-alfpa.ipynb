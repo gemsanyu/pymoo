{
 "cells": [
  {
   "cell_type": "raw",
   "metadata": {
    "raw_mimetype": "text/restructuredtext"
   },
   "source": [
    ".. _nb_cs:"
   ]
  },
  {
   "cell_type": "markdown",
   "metadata": {},
   "source": [
    "## FPA\n",
    "\n",
    "This class represents standard Cuckoo Search based on the explanation in the [\\[book\\]](https://doi.org/10.1016/B978-0-12-416743-8.00009-9) Nature-Inspired Optimization Algorithms by Xin-She Yang and his implementation of standard Cuckoo Search in Matlab on [\\[mathworks\\]](https://www.mathworks.com/matlabcentral/fileexchange/29809-cuckoo-search-cs-algorithm). The implementation is slightly different to the flow of the algorithm described in the book. The figures below describe the pseudocode of the algorithm from the book, and the flow of the implementation. The GRW stands for Global Random Walk by Levy Flight, and the LRW stands for Local Random Walk.\n",
    "\n",
    "1) **Initial Population:**: A starting population is sampled in the beginning. In this framework, this can be either a [Sampling](../operators/sampling.ipynb) object, which defines different initial sampling strategies, or `Population` where the `X` and `F` values are set, or a simple NumPy array (pop_size x n_var).\n",
    "\n",
    "2) **Evaluation:** It is executed using the problem defined to be solved.\n",
    "\n",
    "3) **Survival:** The survival mechanism used is by default the survival of the fittest for the Elitism.\n",
    "\n",
    "4) **Global Random Walk:** The global random walks use a step size that is generated based on Levy Flight Distribution. Every dimension will have its own randomly generated step size on every operation. The Global Random Walk can be done following the book which to randomly choose solution $x_{i}$ which will be modified by Global Random Walk resulting in $x'_i$ and replace a randomly chosen solution $x_{j}$, if $x'_{i}$ is better than $x_{j}$. However for simplicity sake, as also been done in the matlab implementation, $x'_{i}$ will be compared to $x_{i}, \\forall i$ in every iteration. \n",
    "\n",
    "5) **Local Random Walk:** After the Global Random Walk has been done, including the replacement after improvement, every nest $x_i$ has a $p_a$ probability to create new solution via Local Ranom Walk $x'_i = x_i + \\alpha_0*(x_j-x_k)$ with $x_j$ and $x_k$ are two different randomly selected nest. Afterwards, combine the old nests with the new generated nests via Local Random Walks. The size of the combined nests will be pop_size $\\leq$ combined_pop_size $\\leq 2$pop_size. Survival mechanism thus will be used to select a number of pop_size best nests.\n",
    "\n"
   ]
  },
  {
   "cell_type": "markdown",
   "metadata": {},
   "source": [
    "<div style=\"display: block;margin-left: auto;margin-right: auto;width: 60%;\">\n",
    "![cs_pseudocode](../resources/images/cuckoo_search_pseudocode.png)\n",
    "</div>"
   ]
  },
  {
   "cell_type": "markdown",
   "metadata": {},
   "source": [
    "<div style=\"display: block;margin-left: auto;margin-right: auto;width: 60%;\">\n",
    "![cs_flow](../resources/images/cuckoo_search_flow.png)\n",
    "</div>"
   ]
  },
  {
   "cell_type": "markdown",
   "metadata": {},
   "source": [
    "### Example"
   ]
  },
  {
   "cell_type": "code",
   "execution_count": 1,
   "metadata": {
    "code": "algorithms/usage_ga.py",
    "scrolled": true
   },
   "outputs": [
    {
     "name": "stdout",
     "output_type": "stream",
     "text": [
      "[  4  13  15  25  26  30  31  37  39  44  47  53  57  64  70  75  92  93\n",
      " 116 130 132 133 135]\n",
      "[  3   4   5   6   7   8   9  10  11  12  13  14  19  20  21  22  23  24\n",
      "  25  26  27  28  29  34  35  36  37  38  39  40  41  42  43  48  49  50\n",
      "  51  52  53  54  56  61  62  63  64  65  66  68  72  73  74  75  76  77\n",
      "  78  79  83  84  85  86  87  88  89  94  95  96  97  98  99 100 101 102\n",
      " 103 104 105 106 108 109 110 111 112 113 115 116 117 118 119 121 122 123\n",
      " 124]\n"
     ]
    },
    {
     "name": "stderr",
     "output_type": "stream",
     "text": [
      "/home/gemilang/python/python-mop/src/mypymoo/pymoo/algorithms/moead_fpa.py:200: RuntimeWarning: divide by zero encountered in true_divide\n",
      "  G = (FV - off_FV)/FV\n",
      "/home/gemilang/python/python-mop/src/mypymoo/pymoo/algorithms/moead_fpa.py:200: RuntimeWarning: invalid value encountered in true_divide\n",
      "  G = (FV - off_FV)/FV\n",
      "/home/gemilang/python/python-mop/src/mypymoo/pymoo/operators/mutation/polynomial_mutation.py:47: RuntimeWarning: invalid value encountered in power\n",
      "  d = np.power(val, mut_pow) - 1.0\n"
     ]
    },
    {
     "name": "stdout",
     "output_type": "stream",
     "text": [
      "[  0   1   2   3   4   5   6   7   8   9  10  11  12  13  14  16  17  18\n",
      "  19  20  21  22  23  24  25  26  27  28  29  31  32  33  36  37  38  39\n",
      "  40  41  42  43  45  46  47  48  49  50  51  52  53  56  58  59  60  61\n",
      "  62  70  71  72  73  81  82  83  84  85  86  91  92  93  94  95  96  97\n",
      "  98  99 100 101 102 103 104 105 106 108 109 110 111 112 113 115 116 117\n",
      " 118 119 121 122 123 124 126 127 128 130 131]\n",
      "[  0   1   2   3  12  13  16  17  18  19  20  21  22  23  24  25  26  27\n",
      "  28  29  31  32  33  34  35  36  37  38  39  40  41  42  43  45  46  47\n",
      "  48  49  50  51  52  54  55  56  58  59  60  61  62  63  64  65  66  67\n",
      "  68  70  71  72  73  74  75  76  77  78  79  81  82  83  84  85  86  87\n",
      "  88  89  91  92  93  94  95  96  97  98  99 100 101 102 103 104 105 106\n",
      " 108 109 110 111 112 113 115 116 117 118 119 121 122 123 124 126 127 128\n",
      " 130 131 133]\n",
      "[ 12  13  17  18  19  20  21  22  32  33  34  35  36  37  38  39  40  46\n",
      "  47  48  49  50  51  52  53  54  55  59  60  61  62  63  64  65  66  67\n",
      "  68  70  71  72  73  74  75  76  77  78  79  81  82  83  84  85  86  87\n",
      "  88  89  91  92  93  94  95  96  97  98  99 100 101 102 103 104 105 106\n",
      " 108 109 110 111 112 113 115 117 118 119 121 123 124]\n"
     ]
    },
    {
     "name": "stderr",
     "output_type": "stream",
     "text": [
      "/home/gemilang/python/python-mop/src/mypymoo/pymoo/operators/mutation/polynomial_mutation.py:52: RuntimeWarning: invalid value encountered in power\n",
      "  d = 1.0 - (np.power(val, mut_pow))\n",
      "/home/gemilang/python/python-mop/src/mypymoo/pymoo/decomposition/tchebicheff.py:27: RuntimeWarning: invalid value encountered in multiply\n",
      "  v = anp.abs(F - self.utopian_point) * weights\n"
     ]
    },
    {
     "name": "stdout",
     "output_type": "stream",
     "text": [
      "[ 12  13  17  18  19  20  21  22  23  24  25  26  27  28  29  32  34  35\n",
      "  36  37  38  39  40  41  42  43  46  47  48  49  50  51  52  53  54  55\n",
      "  56  59  62  63  64  65  66  67  68  70  74  75  76  77  78  79  81  83\n",
      "  85  86  87  88  89  91  92  93  94  95  96  97  98  99 100 101 102 103\n",
      " 104 105 106 108 109 110 111 112 113 115 116 117 118 119 121 122 123 124]\n",
      "[  1   2  17  18  19  20  21  22  23  24  29  32  33  34  35  36  37  38\n",
      "  39  46  47  48  49  50  51  52  59  60  61  62  63  64  65  70  71  72\n",
      "  73  74  75  76  81  82  83  84  85  87  88  91  92  93  94  95  96  97\n",
      "  99 100 101 102 103 105 106 108 109 110 111 112 113 115 116 117 118 119\n",
      " 121 122 123 124 127 128 131]\n",
      "[  1   2  17  18  19  20  21  22  23  24  25  26  27  28  29  32  33  34\n",
      "  35  36  37  38  39  40  41  42  43  46  47  48  49  50  51  52  53  54\n",
      "  55  56  59  60  61  62  63  64  65  66  67  68  70  71  72  73  74  75\n",
      "  76  77  78  79  81  82  83  84  85  86  87  88  89  91  92  93  94  95\n",
      "  96  97  98  99 100 101 102 103 104 105 106 108 109 110 111 112 113 115\n",
      " 116 117 118 119 121 122 123 124 127 128 131]\n"
     ]
    },
    {
     "name": "stderr",
     "output_type": "stream",
     "text": [
      "/home/gemilang/python/python-mop/src/mypymoo/pymoo/algorithms/moead_fpa.py:147: RuntimeWarning: invalid value encountered in true_divide\n",
      "  FRR = np.dot(current_mask, self.op_rewards)/tot_rewards\n"
     ]
    },
    {
     "name": "stdout",
     "output_type": "stream",
     "text": [
      "[  1   2  17  19  20  21  22  23  24  25  26  27  28  29  34  35  36  37\n",
      "  38  39  40  41  42  43  47  48  49  50  51  52  53  54  55  56  60  61\n",
      "  62  63  65  66  67  68  70  73  74  76  77  78  79  81  86  87  88  89\n",
      "  91  95  96  97  98  99 100 102 103 104 105 106 108 109 110 111 112 113\n",
      " 115 116 117 119 121 122 124 127 128 131]\n",
      "[  1   2  17  18  19  20  21  22  23  24  25  26  27  28  29  32  33  34\n",
      "  35  36  37  38  39  40  41  42  43  46  47  48  49  50  51  52  53  54\n",
      "  55  56  59  60  61  62  63  64  65  66  67  68  70  71  72  75  76  77\n",
      "  78  79  81  85  86  87  88  89  91  94  95  96  97  98  99 100 102 103\n",
      " 104 105 106 108 110 111 112 113 115 116 117 118 119 121 122 124 127 128\n",
      " 131]\n",
      "[  1   2  17  18  19  20  21  22  23  24  25  26  27  28  29  32  33  34\n",
      "  35  36  37  38  39  40  41  42  43  46  47  48  49  50  51  52  53  54\n",
      "  55  56  59  60  61  62  63  64  65  66  67  68  70  71  72  73  74  75\n",
      "  76  77  78  79  81  82  83  84  85  86  87  88  89  91  92  93  94  95\n",
      "  96  98  99 100 101 102 104 105 106 108 109 111 112 113 115 116 117 118\n",
      " 119 121 122 123 124 127 128 131]\n",
      "[  1   2  19  20  21  22  23  24  25  26  27  28  29  32  33  34  35  36\n",
      "  37  38  39  40  41  42  43  46  47  48  49  50  51  52  53  54  55  56\n",
      "  59  60  61  62  63  64  65  66  67  68  70  71  72  73  74  75  76  77\n",
      "  78  79  81  82  83  84  85  86  87  88  89  91  92  93  94  95  96  97\n",
      "  98  99 100 101 102 103 104 105 106 108 109 110 111 112 113 115 116 117\n",
      " 119 121 124 127 128 131]\n",
      "[  1   2  17  18  19  20  21  22  23  24  25  26  27  28  29  33  34  35\n",
      "  36  37  38  39  40  41  42  43  46  47  48  49  50  51  52  53  54  55\n",
      "  59  60  61  62  63  64  65  66  67  68  70  72  73  74  75  76  77  78\n",
      "  81  82  83  84  85  86  87  91  92  93  94  95  96  99 100 101 102 103\n",
      " 104 105 106 108 109 110 111 112 113 115 116 118 119 121 122 123 124 127\n",
      " 128 131]\n",
      "[  1   2  17  18  19  20  21  22  23  24  25  26  27  28  29  33  34  35\n",
      "  36  37  38  39  40  41  42  43  46  47  48  49  50  51  52  53  54  55\n",
      "  59  60  61  62  63  64  65  66  67  70  71  72  73  74  75  76  77  78\n",
      "  81  82  83  84  85  86  87  91  92  93  94  95  96  99 100 101 102 103\n",
      " 104 105 106 108 109 110 111 112 113 115 116 117 118 119 121 122 123 124\n",
      " 127 128 131]\n",
      "[  1   2  17  18  19  20  21  22  23  24  25  26  27  28  33  34  35  36\n",
      "  37  38  39  40  41  42  43  46  47  48  50  51  52  53  54  55  56  59\n",
      "  60  61  62  63  64  65  66  67  68  70  71  72  73  74  75  76  77  78\n",
      "  79  81  82  83  84  85  86  87  88  89  91  92  93  94  95  96  97  98\n",
      "  99 100 101 102 103 104 105 106 108 109 110 111 112 113 115 116 117 118\n",
      " 119 121 122 123 124 127 128]\n",
      "[  1   2  17  18  19  20  21  22  23  24  25  26  27  28  32  33  34  35\n",
      "  36  37  38  39  40  41  42  43  46  47  48  49  50  51  52  53  54  55\n",
      "  56  59  60  61  62  63  64  65  66  68  70  71  72  73  74  75  76  77\n",
      "  79  81  82  83  84  85  86  87  88  89  91  92  93  94  95  96  97  98\n",
      "  99 100 101 102 103 104 105 106 108 109 110 111 112 113 115 116 117 118\n",
      " 119 121 122 123 124 127 128 131]\n",
      "[  1   2  17  18  19  20  21  22  23  24  25  26  27  28  29  32  33  34\n",
      "  35  36  37  38  39  40  41  42  43  46  47  48  49  50  51  52  53  54\n",
      "  55  56  59  60  61  62  63  64  65  66  67  68  70  71  72  73  74  75\n",
      "  76  77  78  79  81  82  83  84  85  86  87  88  89  91  92  93  94  95\n",
      "  96  97  98  99 100 101 102 103 104 105 106 108 109 110 111 112 113 115\n",
      " 116 117 118 119 121 122 123 124 127 128 131]\n",
      "[  1   2  17  18  19  20  21  22  23  24  25  27  28  29  32  33  34  35\n",
      "  36  37  38  39  40  41  42  46  47  48  49  50  51  52  53  54  55  59\n",
      "  60  61  62  63  64  65  66  67  68  70  71  72  73  74  75  76  77  78\n",
      "  79  81  82  83  84  85  86  87  88  89  91  92  93  94  95  96  97  98\n",
      "  99 100 101 102 103 104 105 106 108 109 110 111 112 113 115 116 117 118\n",
      " 119 121 122 123 124 127 128 131]\n",
      "[  1   2  17  18  19  20  21  22  23  24  25  27  28  29  32  33  34  35\n",
      "  36  37  38  39  40  41  42  46  47  48  49  50  51  52  53  54  55  59\n",
      "  60  61  62  63  64  65  66  67  68  70  71  72  73  74  75  76  77  78\n",
      "  79  81  82  83  84  85  86  87  88  89  91  92  93  94  95  96  97  98\n",
      "  99 100 101 102 103 104 105 106 108 109 110 111 112 113 115 116 117 118\n",
      " 119 121 122 123 124 127 128 131]\n",
      "[  1   2  17  18  19  20  21  22  23  24  25  26  27  28  29  32  33  34\n",
      "  35  36  37  38  39  40  41  42  46  47  48  49  50  51  52  53  54  55\n",
      "  59  60  61  62  63  64  65  66  67  68  70  71  72  73  74  75  76  77\n",
      "  78  79  81  82  83  84  85  86  87  88  89  91  92  93  94  95  96  97\n",
      "  98  99 100 101 102 103 104 105 106 108 109 110 111 112 113 115 116 117\n",
      " 118 119 121 122 123 124 127 128 131]\n",
      "[  1   2  17  18  19  20  21  22  23  24  25  26  27  28  29  32  33  34\n",
      "  35  36  37  38  39  40  41  42  46  47  48  49  50  51  53  54  55  59\n",
      "  60  61  62  63  64  65  66  67  68  70  71  72  73  74  75  76  77  78\n",
      "  79  81  82  83  84  85  86  87  88  89  91  92  93  94  95  96  97  98\n",
      "  99 100 101 102 103 104 105 106 108 109 110 111 112 113 115 116 117 118\n",
      " 119 121 122 123 124 127 128 131]\n",
      "[  1   2  17  18  19  20  21  22  23  24  25  26  27  28  29  32  33  34\n",
      "  35  36  37  38  39  40  41  42  46  47  48  49  50  51  52  53  54  55\n",
      "  59  60  61  62  63  64  65  66  67  68  70  71  72  73  74  75  76  77\n",
      "  78  79  81  82  83  84  85  86  87  88  89  91  92  93  94  95  96  97\n",
      "  98  99 100 101 102 103 104 105 106 108 109 110 111 112 113 115 116 117\n",
      " 118 119 121 122 123 124 127 128 131]\n",
      "[  1   2  17  18  19  20  23  24  25  26  27  28  29  32  33  34  35  36\n",
      "  37  38  39  40  41  42  46  47  48  49  50  51  52  53  54  55  59  60\n",
      "  61  62  63  64  65  66  67  68  70  71  72  73  74  75  76  77  78  79\n",
      "  81  82  83  84  85  86  87  88  89  91  92  93  94  95  96  97  98  99\n",
      " 100 101 102 103 104 105 106 108 109 110 111 112 113 115 116 117 118 119\n",
      " 121 122 123 124 127 128 131]\n",
      "[  1   2  17  18  19  20  21  22  23  24  25  26  27  28  29  33  34  35\n",
      "  36  37  38  39  40  41  42  46  47  48  49  50  51  52  53  54  55  59\n",
      "  60  61  62  63  64  65  66  67  68  70  71  72  73  74  75  76  77  78\n",
      "  79  81  82  83  84  85  86  87  88  89  91  92  93  94  95  96  97  98\n",
      "  99 100 101 102 103 104 105 106 108 109 110 111 112 113 115 116 117 118\n",
      " 119 121 122 123 124 128 131]\n",
      "[  1   2  17  18  19  20  21  22  23  24  25  26  27  28  29  33  34  35\n",
      "  36  37  38  39  40  41  42  43  46  47  48  49  50  51  52  53  54  55\n",
      "  56  59  60  61  62  63  64  65  67  68  70  71  72  73  74  75  76  77\n",
      "  78  79  81  82  83  84  85  86  87  88  89  91  92  93  94  95  96  97\n",
      "  98  99 100 101 102 103 104 105 106 108 109 110 111 112 113 115 116 117\n",
      " 118 119 121 122 123 124 127 128 131]\n"
     ]
    },
    {
     "ename": "KeyboardInterrupt",
     "evalue": "",
     "output_type": "error",
     "traceback": [
      "\u001b[0;31m---------------------------------------------------------------------------\u001b[0m",
      "\u001b[0;31mKeyboardInterrupt\u001b[0m                         Traceback (most recent call last)",
      "\u001b[0;32m<ipython-input-1-fe23b182ef75>\u001b[0m in \u001b[0;36m<module>\u001b[0;34m\u001b[0m\n\u001b[1;32m     10\u001b[0m \u001b[0malgorithm\u001b[0m \u001b[0;34m=\u001b[0m \u001b[0mMOEAD_ALFPA\u001b[0m\u001b[0;34m(\u001b[0m\u001b[0mref_dirs\u001b[0m\u001b[0;34m,\u001b[0m \u001b[0mdecomposition\u001b[0m\u001b[0;34m=\u001b[0m\u001b[0mTchebicheff\u001b[0m\u001b[0;34m(\u001b[0m\u001b[0;34m)\u001b[0m\u001b[0;34m)\u001b[0m\u001b[0;34m\u001b[0m\u001b[0;34m\u001b[0m\u001b[0m\n\u001b[1;32m     11\u001b[0m \u001b[0;34m\u001b[0m\u001b[0m\n\u001b[0;32m---> 12\u001b[0;31m \u001b[0mres\u001b[0m \u001b[0;34m=\u001b[0m \u001b[0mminimize\u001b[0m\u001b[0;34m(\u001b[0m\u001b[0mproblem\u001b[0m\u001b[0;34m,\u001b[0m \u001b[0malgorithm\u001b[0m\u001b[0;34m,\u001b[0m \u001b[0;34m(\u001b[0m\u001b[0;34m'n_eval'\u001b[0m\u001b[0;34m,\u001b[0m \u001b[0;36m25000\u001b[0m\u001b[0;34m)\u001b[0m\u001b[0;34m,\u001b[0m \u001b[0mverbose\u001b[0m\u001b[0;34m=\u001b[0m\u001b[0;32mFalse\u001b[0m\u001b[0;34m)\u001b[0m\u001b[0;34m\u001b[0m\u001b[0;34m\u001b[0m\u001b[0m\n\u001b[0m\u001b[1;32m     13\u001b[0m \u001b[0;34m\u001b[0m\u001b[0m\n\u001b[1;32m     14\u001b[0m \u001b[0;32mif\u001b[0m \u001b[0mn_obj\u001b[0m \u001b[0;34m==\u001b[0m \u001b[0;36m2\u001b[0m\u001b[0;34m:\u001b[0m\u001b[0;34m\u001b[0m\u001b[0;34m\u001b[0m\u001b[0m\n",
      "\u001b[0;32m~/python/python-mop/src/mypymoo/pymoo/optimize.py\u001b[0m in \u001b[0;36mminimize\u001b[0;34m(problem, algorithm, termination, copy_algorithm, copy_termination, **kwargs)\u001b[0m\n\u001b[1;32m     81\u001b[0m \u001b[0;34m\u001b[0m\u001b[0m\n\u001b[1;32m     82\u001b[0m     \u001b[0;31m# actually execute the algorithm\u001b[0m\u001b[0;34m\u001b[0m\u001b[0;34m\u001b[0m\u001b[0;34m\u001b[0m\u001b[0m\n\u001b[0;32m---> 83\u001b[0;31m     \u001b[0mres\u001b[0m \u001b[0;34m=\u001b[0m \u001b[0malgorithm\u001b[0m\u001b[0;34m.\u001b[0m\u001b[0msolve\u001b[0m\u001b[0;34m(\u001b[0m\u001b[0;34m)\u001b[0m\u001b[0;34m\u001b[0m\u001b[0;34m\u001b[0m\u001b[0m\n\u001b[0m\u001b[1;32m     84\u001b[0m \u001b[0;34m\u001b[0m\u001b[0m\n\u001b[1;32m     85\u001b[0m     \u001b[0;31m# store the deep copied algorithm in the result object\u001b[0m\u001b[0;34m\u001b[0m\u001b[0;34m\u001b[0m\u001b[0;34m\u001b[0m\u001b[0m\n",
      "\u001b[0;32m~/python/python-mop/src/mypymoo/pymoo/model/algorithm.py\u001b[0m in \u001b[0;36msolve\u001b[0;34m(self)\u001b[0m\n\u001b[1;32m    229\u001b[0m \u001b[0;34m\u001b[0m\u001b[0m\n\u001b[1;32m    230\u001b[0m         \u001b[0;31m# call the algorithm to solve the problem\u001b[0m\u001b[0;34m\u001b[0m\u001b[0;34m\u001b[0m\u001b[0;34m\u001b[0m\u001b[0m\n\u001b[0;32m--> 231\u001b[0;31m         \u001b[0mself\u001b[0m\u001b[0;34m.\u001b[0m\u001b[0m_solve\u001b[0m\u001b[0;34m(\u001b[0m\u001b[0;34m)\u001b[0m\u001b[0;34m\u001b[0m\u001b[0;34m\u001b[0m\u001b[0m\n\u001b[0m\u001b[1;32m    232\u001b[0m \u001b[0;34m\u001b[0m\u001b[0m\n\u001b[1;32m    233\u001b[0m         \u001b[0;31m# create the result object based on the current iteration\u001b[0m\u001b[0;34m\u001b[0m\u001b[0;34m\u001b[0m\u001b[0;34m\u001b[0m\u001b[0m\n",
      "\u001b[0;32m~/python/python-mop/src/mypymoo/pymoo/model/algorithm.py\u001b[0m in \u001b[0;36m_solve\u001b[0;34m(self)\u001b[0m\n\u001b[1;32m    323\u001b[0m         \u001b[0;31m# while termination criterion not fulfilled\u001b[0m\u001b[0;34m\u001b[0m\u001b[0;34m\u001b[0m\u001b[0;34m\u001b[0m\u001b[0m\n\u001b[1;32m    324\u001b[0m         \u001b[0;32mwhile\u001b[0m \u001b[0mself\u001b[0m\u001b[0;34m.\u001b[0m\u001b[0mhas_next\u001b[0m\u001b[0;34m(\u001b[0m\u001b[0;34m)\u001b[0m\u001b[0;34m:\u001b[0m\u001b[0;34m\u001b[0m\u001b[0;34m\u001b[0m\u001b[0m\n\u001b[0;32m--> 325\u001b[0;31m             \u001b[0mself\u001b[0m\u001b[0;34m.\u001b[0m\u001b[0mnext\u001b[0m\u001b[0;34m(\u001b[0m\u001b[0;34m)\u001b[0m\u001b[0;34m\u001b[0m\u001b[0;34m\u001b[0m\u001b[0m\n\u001b[0m\u001b[1;32m    326\u001b[0m \u001b[0;34m\u001b[0m\u001b[0m\n\u001b[1;32m    327\u001b[0m     \u001b[0;31m# method that is called each iteration to call some algorithms regularly\u001b[0m\u001b[0;34m\u001b[0m\u001b[0;34m\u001b[0m\u001b[0;34m\u001b[0m\u001b[0m\n",
      "\u001b[0;32m~/python/python-mop/src/mypymoo/pymoo/model/algorithm.py\u001b[0m in \u001b[0;36mnext\u001b[0;34m(self)\u001b[0m\n\u001b[1;32m    248\u001b[0m             \u001b[0mself\u001b[0m\u001b[0;34m.\u001b[0m\u001b[0minitialize\u001b[0m\u001b[0;34m(\u001b[0m\u001b[0;34m)\u001b[0m\u001b[0;34m\u001b[0m\u001b[0;34m\u001b[0m\u001b[0m\n\u001b[1;32m    249\u001b[0m         \u001b[0;32melse\u001b[0m\u001b[0;34m:\u001b[0m\u001b[0;34m\u001b[0m\u001b[0;34m\u001b[0m\u001b[0m\n\u001b[0;32m--> 250\u001b[0;31m             \u001b[0mself\u001b[0m\u001b[0;34m.\u001b[0m\u001b[0m_next\u001b[0m\u001b[0;34m(\u001b[0m\u001b[0;34m)\u001b[0m\u001b[0;34m\u001b[0m\u001b[0;34m\u001b[0m\u001b[0m\n\u001b[0m\u001b[1;32m    251\u001b[0m             \u001b[0mself\u001b[0m\u001b[0;34m.\u001b[0m\u001b[0mn_gen\u001b[0m \u001b[0;34m+=\u001b[0m \u001b[0;36m1\u001b[0m\u001b[0;34m\u001b[0m\u001b[0;34m\u001b[0m\u001b[0m\n\u001b[1;32m    252\u001b[0m \u001b[0;34m\u001b[0m\u001b[0m\n",
      "\u001b[0;32m~/python/python-mop/src/mypymoo/pymoo/algorithms/moead_fpa.py\u001b[0m in \u001b[0;36m_next\u001b[0;34m(self)\u001b[0m\n\u001b[1;32m    182\u001b[0m             \u001b[0m_x\u001b[0m \u001b[0;34m=\u001b[0m \u001b[0mself\u001b[0m\u001b[0;34m.\u001b[0m\u001b[0mmutation\u001b[0m\u001b[0;34m.\u001b[0m\u001b[0m_do\u001b[0m\u001b[0;34m(\u001b[0m\u001b[0mself\u001b[0m\u001b[0;34m.\u001b[0m\u001b[0mproblem\u001b[0m\u001b[0;34m,\u001b[0m \u001b[0m_x\u001b[0m\u001b[0;34m[\u001b[0m\u001b[0;32mNone\u001b[0m\u001b[0;34m,\u001b[0m \u001b[0;34m:\u001b[0m\u001b[0;34m]\u001b[0m\u001b[0;34m)\u001b[0m\u001b[0;34m\u001b[0m\u001b[0;34m\u001b[0m\u001b[0m\n\u001b[1;32m    183\u001b[0m             \u001b[0moff\u001b[0m \u001b[0;34m=\u001b[0m \u001b[0mIndividual\u001b[0m\u001b[0;34m(\u001b[0m\u001b[0mX\u001b[0m\u001b[0;34m=\u001b[0m\u001b[0m_x\u001b[0m\u001b[0;34m[\u001b[0m\u001b[0;36m0\u001b[0m\u001b[0;34m]\u001b[0m\u001b[0;34m)\u001b[0m\u001b[0;34m\u001b[0m\u001b[0;34m\u001b[0m\u001b[0m\n\u001b[0;32m--> 184\u001b[0;31m             \u001b[0mself\u001b[0m\u001b[0;34m.\u001b[0m\u001b[0mevaluator\u001b[0m\u001b[0;34m.\u001b[0m\u001b[0meval\u001b[0m\u001b[0;34m(\u001b[0m\u001b[0mself\u001b[0m\u001b[0;34m.\u001b[0m\u001b[0mproblem\u001b[0m\u001b[0;34m,\u001b[0m \u001b[0moff\u001b[0m\u001b[0;34m)\u001b[0m\u001b[0;34m\u001b[0m\u001b[0;34m\u001b[0m\u001b[0m\n\u001b[0m\u001b[1;32m    185\u001b[0m \u001b[0;34m\u001b[0m\u001b[0m\n\u001b[1;32m    186\u001b[0m             \u001b[0mself\u001b[0m\u001b[0;34m.\u001b[0m\u001b[0mideal_point\u001b[0m \u001b[0;34m=\u001b[0m \u001b[0mnp\u001b[0m\u001b[0;34m.\u001b[0m\u001b[0mminimum\u001b[0m\u001b[0;34m(\u001b[0m\u001b[0mself\u001b[0m\u001b[0;34m.\u001b[0m\u001b[0mideal_point\u001b[0m\u001b[0;34m,\u001b[0m \u001b[0moff\u001b[0m\u001b[0;34m.\u001b[0m\u001b[0mF\u001b[0m\u001b[0;34m)\u001b[0m\u001b[0;34m\u001b[0m\u001b[0;34m\u001b[0m\u001b[0m\n",
      "\u001b[0;32m~/python/python-mop/src/mypymoo/pymoo/model/evaluator.py\u001b[0m in \u001b[0;36meval\u001b[0;34m(self, problem, pop, **kwargs)\u001b[0m\n\u001b[1;32m     63\u001b[0m         \u001b[0;31m# make sure the object is a population\u001b[0m\u001b[0;34m\u001b[0m\u001b[0;34m\u001b[0m\u001b[0;34m\u001b[0m\u001b[0m\n\u001b[1;32m     64\u001b[0m         \u001b[0;32mif\u001b[0m \u001b[0mis_individual\u001b[0m \u001b[0;32mor\u001b[0m \u001b[0mis_numpy_array\u001b[0m\u001b[0;34m:\u001b[0m\u001b[0;34m\u001b[0m\u001b[0;34m\u001b[0m\u001b[0m\n\u001b[0;32m---> 65\u001b[0;31m             \u001b[0mpop\u001b[0m \u001b[0;34m=\u001b[0m \u001b[0mPopulation\u001b[0m\u001b[0;34m(\u001b[0m\u001b[0;34m)\u001b[0m\u001b[0;34m.\u001b[0m\u001b[0mcreate\u001b[0m\u001b[0;34m(\u001b[0m\u001b[0mpop\u001b[0m\u001b[0;34m)\u001b[0m\u001b[0;34m\u001b[0m\u001b[0;34m\u001b[0m\u001b[0m\n\u001b[0m\u001b[1;32m     66\u001b[0m \u001b[0;34m\u001b[0m\u001b[0m\n\u001b[1;32m     67\u001b[0m         \u001b[0;31m# find indices to be evaluated\u001b[0m\u001b[0;34m\u001b[0m\u001b[0;34m\u001b[0m\u001b[0;34m\u001b[0m\u001b[0m\n",
      "\u001b[0;32m~/python/python-mop/src/mypymoo/pymoo/model/population.py\u001b[0m in \u001b[0;36m__new__\u001b[0;34m(cls, n_individuals)\u001b[0m\n\u001b[1;32m     20\u001b[0m \u001b[0;34m\u001b[0m\u001b[0m\n\u001b[1;32m     21\u001b[0m     \u001b[0;32mdef\u001b[0m \u001b[0m__new__\u001b[0m\u001b[0;34m(\u001b[0m\u001b[0mcls\u001b[0m\u001b[0;34m,\u001b[0m \u001b[0mn_individuals\u001b[0m\u001b[0;34m=\u001b[0m\u001b[0;36m0\u001b[0m\u001b[0;34m)\u001b[0m\u001b[0;34m:\u001b[0m\u001b[0;34m\u001b[0m\u001b[0;34m\u001b[0m\u001b[0m\n\u001b[0;32m---> 22\u001b[0;31m         \u001b[0mobj\u001b[0m \u001b[0;34m=\u001b[0m \u001b[0msuper\u001b[0m\u001b[0;34m(\u001b[0m\u001b[0mPopulation\u001b[0m\u001b[0;34m,\u001b[0m \u001b[0mcls\u001b[0m\u001b[0;34m)\u001b[0m\u001b[0;34m.\u001b[0m\u001b[0m__new__\u001b[0m\u001b[0;34m(\u001b[0m\u001b[0mcls\u001b[0m\u001b[0;34m,\u001b[0m \u001b[0mn_individuals\u001b[0m\u001b[0;34m,\u001b[0m \u001b[0mdtype\u001b[0m\u001b[0;34m=\u001b[0m\u001b[0mcls\u001b[0m\u001b[0;34m)\u001b[0m\u001b[0;34m.\u001b[0m\u001b[0mview\u001b[0m\u001b[0;34m(\u001b[0m\u001b[0mcls\u001b[0m\u001b[0;34m)\u001b[0m\u001b[0;34m\u001b[0m\u001b[0;34m\u001b[0m\u001b[0m\n\u001b[0m\u001b[1;32m     23\u001b[0m         \u001b[0;32mfor\u001b[0m \u001b[0mi\u001b[0m \u001b[0;32min\u001b[0m \u001b[0mrange\u001b[0m\u001b[0;34m(\u001b[0m\u001b[0mn_individuals\u001b[0m\u001b[0;34m)\u001b[0m\u001b[0;34m:\u001b[0m\u001b[0;34m\u001b[0m\u001b[0;34m\u001b[0m\u001b[0m\n\u001b[1;32m     24\u001b[0m             \u001b[0mobj\u001b[0m\u001b[0;34m[\u001b[0m\u001b[0mi\u001b[0m\u001b[0;34m]\u001b[0m \u001b[0;34m=\u001b[0m \u001b[0mIndividual\u001b[0m\u001b[0;34m(\u001b[0m\u001b[0;34m)\u001b[0m\u001b[0;34m\u001b[0m\u001b[0;34m\u001b[0m\u001b[0m\n",
      "\u001b[0;31mKeyboardInterrupt\u001b[0m: "
     ]
    }
   ],
   "source": [
    "from pymoo.algorithms.moead_fpa import MOEAD_ALFPA\n",
    "from pymoo.factory import get_problem, get_visualization, get_reference_directions\n",
    "from pymoo.optimize import minimize\n",
    "from pymoo.visualization.scatter import Scatter\n",
    "from pymoo.decomposition.tchebicheff import Tchebicheff\n",
    "\n",
    "problem = get_problem(\"dtlz1\")\n",
    "n_obj = 3\n",
    "ref_dirs = get_reference_directions(\"das-dennis\", n_obj, n_partitions=15)\n",
    "algorithm = MOEAD_ALFPA(ref_dirs, decomposition=Tchebicheff())\n",
    "\n",
    "res = minimize(problem, algorithm, ('n_eval', 25000), verbose=False)\n",
    "\n",
    "if n_obj == 2:\n",
    "    plot = Scatter()\n",
    "    plot.add(problem.pareto_front(), plot_type=\"line\", color=\"black\", alpha=0.7)\n",
    "    plot.add(res.F, color=\"red\")\n",
    "    plot.show()\n",
    "else:\n",
    "    plot = Scatter().add(res.F)\n",
    "    plot.show()"
   ]
  },
  {
   "cell_type": "code",
   "execution_count": 4,
   "metadata": {},
   "outputs": [
    {
     "name": "stdout",
     "output_type": "stream",
     "text": [
      "16.23816990852356\n"
     ]
    }
   ],
   "source": [
    "print(res.exec_time)"
   ]
  },
  {
   "cell_type": "code",
   "execution_count": 22,
   "metadata": {},
   "outputs": [
    {
     "name": "stdout",
     "output_type": "stream",
     "text": [
      "[4 3 2 0 4 0 3 3 4 3]\n",
      "[2. 0. 1. 4. 3.]\n",
      "[ 0.  0.  2. 12. 12.]\n"
     ]
    }
   ],
   "source": [
    "import numpy as np\n",
    "A = np.random.randint(5, size=10)\n",
    "idx = np.arange(5)\n",
    "idx = np.tile(idx, (len(A),1)).T\n",
    "print(A)\n",
    "mask = (A==idx).astype(dtype='float')\n",
    "print(np.sum(mask, axis=1))\n",
    "print(np.dot(mask, A.T))"
   ]
  },
  {
   "cell_type": "markdown",
   "metadata": {},
   "source": [
    "### API"
   ]
  },
  {
   "cell_type": "raw",
   "metadata": {
    "raw_mimetype": "text/restructuredtext"
   },
   "source": [
    ".. autofunction:: pymoo.algorithms.so_cuckoo_search.CuckooSearch\n",
    "    :noindex:"
   ]
  }
 ],
 "metadata": {
  "celltoolbar": "Raw Cell Format",
  "kernelspec": {
   "display_name": "Python 3",
   "language": "python",
   "name": "python3"
  },
  "language_info": {
   "codemirror_mode": {
    "name": "ipython",
    "version": 3
   },
   "file_extension": ".py",
   "mimetype": "text/x-python",
   "name": "python",
   "nbconvert_exporter": "python",
   "pygments_lexer": "ipython3",
   "version": "3.6.12"
  }
 },
 "nbformat": 4,
 "nbformat_minor": 4
}
