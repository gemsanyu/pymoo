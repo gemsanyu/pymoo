{
 "cells": [
  {
   "cell_type": "raw",
   "metadata": {
    "raw_mimetype": "text/restructuredtext"
   },
   "source": [
    ".. _nb_cs:"
   ]
  },
  {
   "cell_type": "markdown",
   "metadata": {},
   "source": [
    "## FPA\n",
    "\n",
    "This class represents standard Cuckoo Search based on the explanation in the [\\[book\\]](https://doi.org/10.1016/B978-0-12-416743-8.00009-9) Nature-Inspired Optimization Algorithms by Xin-She Yang and his implementation of standard Cuckoo Search in Matlab on [\\[mathworks\\]](https://www.mathworks.com/matlabcentral/fileexchange/29809-cuckoo-search-cs-algorithm). The implementation is slightly different to the flow of the algorithm described in the book. The figures below describe the pseudocode of the algorithm from the book, and the flow of the implementation. The GRW stands for Global Random Walk by Levy Flight, and the LRW stands for Local Random Walk.\n",
    "\n",
    "1) **Initial Population:**: A starting population is sampled in the beginning. In this framework, this can be either a [Sampling](../operators/sampling.ipynb) object, which defines different initial sampling strategies, or `Population` where the `X` and `F` values are set, or a simple NumPy array (pop_size x n_var).\n",
    "\n",
    "2) **Evaluation:** It is executed using the problem defined to be solved.\n",
    "\n",
    "3) **Survival:** The survival mechanism used is by default the survival of the fittest for the Elitism.\n",
    "\n",
    "4) **Global Random Walk:** The global random walks use a step size that is generated based on Levy Flight Distribution. Every dimension will have its own randomly generated step size on every operation. The Global Random Walk can be done following the book which to randomly choose solution $x_{i}$ which will be modified by Global Random Walk resulting in $x'_i$ and replace a randomly chosen solution $x_{j}$, if $x'_{i}$ is better than $x_{j}$. However for simplicity sake, as also been done in the matlab implementation, $x'_{i}$ will be compared to $x_{i}, \\forall i$ in every iteration. \n",
    "\n",
    "5) **Local Random Walk:** After the Global Random Walk has been done, including the replacement after improvement, every nest $x_i$ has a $p_a$ probability to create new solution via Local Ranom Walk $x'_i = x_i + \\alpha_0*(x_j-x_k)$ with $x_j$ and $x_k$ are two different randomly selected nest. Afterwards, combine the old nests with the new generated nests via Local Random Walks. The size of the combined nests will be pop_size $\\leq$ combined_pop_size $\\leq 2$pop_size. Survival mechanism thus will be used to select a number of pop_size best nests.\n",
    "\n"
   ]
  },
  {
   "cell_type": "markdown",
   "metadata": {},
   "source": [
    "<div style=\"display: block;margin-left: auto;margin-right: auto;width: 60%;\">\n",
    "![cs_pseudocode](../resources/images/cuckoo_search_pseudocode.png)\n",
    "</div>"
   ]
  },
  {
   "cell_type": "markdown",
   "metadata": {},
   "source": [
    "<div style=\"display: block;margin-left: auto;margin-right: auto;width: 60%;\">\n",
    "![cs_flow](../resources/images/cuckoo_search_flow.png)\n",
    "</div>"
   ]
  },
  {
   "cell_type": "markdown",
   "metadata": {},
   "source": [
    "### Example"
   ]
  },
  {
   "cell_type": "code",
   "execution_count": 85,
   "metadata": {
    "code": "algorithms/usage_ga.py",
    "scrolled": true
   },
   "outputs": [
    {
     "name": "stdout",
     "output_type": "stream",
     "text": [
      "===========================================================================\n",
      "n_gen |  n_eval |   cv (min)   |   cv (avg)   |     fopt     |     favg    \n",
      "===========================================================================\n",
      "    1 |      25 |  0.00000E+00 |  0.00000E+00 | -1.30198E-01 | -9.76647E-02\n",
      "    2 |      50 |  0.00000E+00 |  0.00000E+00 | -1.30198E-01 | -9.83238E-02\n",
      "    3 |      75 |  0.00000E+00 |  0.00000E+00 | -1.30198E-01 | -1.00149E-01\n",
      "    4 |     100 |  0.00000E+00 |  0.00000E+00 | -1.30198E-01 | -1.02846E-01\n",
      "    5 |     125 |  0.00000E+00 |  0.00000E+00 | -1.30198E-01 | -1.02846E-01\n",
      "    6 |     150 |  0.00000E+00 |  0.00000E+00 | -1.30198E-01 | -1.02921E-01\n",
      "    7 |     175 |  0.00000E+00 |  0.00000E+00 | -1.30198E-01 | -1.04495E-01\n",
      "    8 |     200 |  0.00000E+00 |  0.00000E+00 | -1.30198E-01 | -1.04846E-01\n",
      "    9 |     225 |  0.00000E+00 |  0.00000E+00 | -1.30198E-01 | -1.07463E-01\n",
      "   10 |     250 |  0.00000E+00 |  0.00000E+00 | -1.30198E-01 | -1.07463E-01\n",
      "   11 |     275 |  0.00000E+00 |  0.00000E+00 | -1.30198E-01 | -1.07550E-01\n",
      "   12 |     300 |  0.00000E+00 |  0.00000E+00 | -1.30198E-01 | -1.07550E-01\n",
      "   13 |     325 |  0.00000E+00 |  0.00000E+00 | -1.30198E-01 | -1.07550E-01\n",
      "   14 |     350 |  0.00000E+00 |  0.00000E+00 | -1.30198E-01 | -1.07557E-01\n",
      "   15 |     375 |  0.00000E+00 |  0.00000E+00 | -1.77611E-01 | -1.11533E-01\n",
      "   16 |     400 |  0.00000E+00 |  0.00000E+00 | -1.77611E-01 | -1.11533E-01\n",
      "   17 |     425 |  0.00000E+00 |  0.00000E+00 | -1.77611E-01 | -1.11877E-01\n",
      "   18 |     450 |  0.00000E+00 |  0.00000E+00 | -1.77611E-01 | -1.12015E-01\n",
      "   19 |     475 |  0.00000E+00 |  0.00000E+00 | -1.77611E-01 | -1.12015E-01\n",
      "   20 |     500 |  0.00000E+00 |  0.00000E+00 | -1.77611E-01 | -1.12015E-01\n",
      "   21 |     525 |  0.00000E+00 |  0.00000E+00 | -1.77611E-01 | -1.13239E-01\n",
      "   22 |     550 |  0.00000E+00 |  0.00000E+00 | -1.77611E-01 | -1.13630E-01\n",
      "   23 |     575 |  0.00000E+00 |  0.00000E+00 | -1.77611E-01 | -1.13876E-01\n",
      "   24 |     600 |  0.00000E+00 |  0.00000E+00 | -1.77611E-01 | -1.13876E-01\n",
      "   25 |     625 |  0.00000E+00 |  0.00000E+00 | -1.77611E-01 | -1.13896E-01\n",
      "   26 |     650 |  0.00000E+00 |  0.00000E+00 | -1.77611E-01 | -1.13896E-01\n",
      "   27 |     675 |  0.00000E+00 |  0.00000E+00 | -1.77611E-01 | -1.13896E-01\n",
      "   28 |     700 |  0.00000E+00 |  0.00000E+00 | -1.77611E-01 | -1.13896E-01\n",
      "   29 |     725 |  0.00000E+00 |  0.00000E+00 | -1.77611E-01 | -1.13896E-01\n",
      "   30 |     750 |  0.00000E+00 |  0.00000E+00 | -1.77611E-01 | -1.13896E-01\n",
      "   31 |     775 |  0.00000E+00 |  0.00000E+00 | -1.77611E-01 | -1.14558E-01\n",
      "   32 |     800 |  0.00000E+00 |  0.00000E+00 | -1.77611E-01 | -1.14558E-01\n",
      "   33 |     825 |  0.00000E+00 |  0.00000E+00 | -1.77611E-01 | -1.14558E-01\n",
      "   34 |     850 |  0.00000E+00 |  0.00000E+00 | -1.77611E-01 | -1.14558E-01\n",
      "   35 |     875 |  0.00000E+00 |  0.00000E+00 | -1.77611E-01 | -1.14558E-01\n",
      "Best solution found: \n",
      "X = [5.03672322 9.24689857 3.44630421 0.91677067 4.96913018 2.72452262\n",
      " 0.01749861 5.81723986 3.71272521 4.08102716 0.92256744 3.4553662\n",
      " 3.27266038 8.10918621 4.25859236 0.10399844 1.98746303 5.85621192\n",
      " 0.46802353 0.33735373]\n",
      "F = [-0.17761147]\n"
     ]
    }
   ],
   "source": [
    "from pymoo.algorithms.so_fpa import FlowerPollinationAlgorithm\n",
    "from pymoo.factory import get_problem\n",
    "from pymoo.optimize import minimize\n",
    "from pymoo.visualization.scatter import Scatter\n",
    "\n",
    "problem = get_problem(\"g02\")\n",
    "\n",
    "algorithm = FlowerPollinationAlgorithm(alpha=0.1, p=0.75)\n",
    "\n",
    "res = minimize(problem, algorithm,  seed=1, verbose=True)\n",
    "print(\"Best solution found: \\nX = %s\\nF = %s\" % (res.X, res.F))\n"
   ]
  },
  {
   "cell_type": "markdown",
   "metadata": {},
   "source": [
    "### API"
   ]
  },
  {
   "cell_type": "raw",
   "metadata": {
    "raw_mimetype": "text/restructuredtext"
   },
   "source": [
    ".. autofunction:: pymoo.algorithms.so_cuckoo_search.CuckooSearch\n",
    "    :noindex:"
   ]
  }
 ],
 "metadata": {
  "celltoolbar": "Raw Cell Format",
  "kernelspec": {
   "display_name": "Python 3",
   "language": "python",
   "name": "python3"
  },
  "language_info": {
   "codemirror_mode": {
    "name": "ipython",
    "version": 3
   },
   "file_extension": ".py",
   "mimetype": "text/x-python",
   "name": "python",
   "nbconvert_exporter": "python",
   "pygments_lexer": "ipython3",
   "version": "3.6.12"
  }
 },
 "nbformat": 4,
 "nbformat_minor": 4
}
