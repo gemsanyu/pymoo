{
 "cells": [
  {
   "cell_type": "raw",
   "metadata": {
    "raw_mimetype": "text/restructuredtext"
   },
   "source": [
    ".. _nb_cs:"
   ]
  },
  {
   "cell_type": "markdown",
   "metadata": {},
   "source": [
    "## Cuckoo Search\n",
    "\n",
    "This class represents standard Cuckoo Search based on the explanation in the [\\[book\\]](https://doi.org/10.1016/B978-0-12-416743-8.00009-9) Nature-Inspired Optimization Algorithms by Xin-She Yang and his implementation of standard Cuckoo Search in Matlab on [\\[mathworks\\]](https://www.mathworks.com/matlabcentral/fileexchange/29809-cuckoo-search-cs-algorithm). The implementation is slightly different to the flow of the algorithm described in the book. The figures below describe the pseudocode of the algorithm from the book, and the flow of the implementation. The GRW stands for Global Random Walk by Levy Flight, and the LRW stands for Local Random Walk.\n",
    "\n",
    "1) **Initial Population:**: A starting population is sampled in the beginning. In this framework, this can be either a [Sampling](../operators/sampling.ipynb) object, which defines different initial sampling strategies, or `Population` where the `X` and `F` values are set, or a simple NumPy array (pop_size x n_var).\n",
    "\n",
    "2) **Evaluation:** It is executed using the problem defined to be solved.\n",
    "\n",
    "3) **Survival:** The survival mechanism used is by default the survival of the fittest for the Elitism.\n",
    "\n",
    "4) **Global Random Walk:** The global random walks use a step size that is generated based on Levy Flight Distribution. Every dimension will have its own randomly generated step size on every operation. The Global Random Walk can be done following the book which to randomly choose solution $x_{i}$ which will be modified by Global Random Walk resulting in $x'_i$ and replace a randomly chosen solution $x_{j}$, if $x'_{i}$ is better than $x_{j}$. However for simplicity sake, as also been done in the matlab implementation, $x'_{i}$ will be compared to $x_{i}, \\forall i$ in every iteration. \n",
    "\n",
    "5) **Local Random Walk:** After the Global Random Walk has been done, including the replacement after improvement, every nest $x_i$ has a $p_a$ probability to create new solution via Local Ranom Walk $x'_i = x_i + \\alpha_0*(x_j-x_k)$ with $x_j$ and $x_k$ are two different randomly selected nest. Afterwards, combine the old nests with the new generated nests via Local Random Walks. The size of the combined nests will be pop_size $\\leq$ combined_pop_size $\\leq 2$pop_size. Survival mechanism thus will be used to select a number of pop_size best nests.\n",
    "\n"
   ]
  },
  {
   "cell_type": "markdown",
   "metadata": {},
   "source": [
    "<div style=\"display: block;margin-left: auto;margin-right: auto;width: 60%;\">\n",
    "![cs_pseudocode](../resources/images/cuckoo_search_pseudocode.png)\n",
    "</div>"
   ]
  },
  {
   "cell_type": "markdown",
   "metadata": {},
   "source": [
    "<div style=\"display: block;margin-left: auto;margin-right: auto;width: 60%;\">\n",
    "![cs_flow](../resources/images/cuckoo_search_flow.png)\n",
    "</div>"
   ]
  },
  {
   "cell_type": "markdown",
   "metadata": {},
   "source": [
    "### Example"
   ]
  },
  {
   "cell_type": "code",
   "execution_count": 52,
   "metadata": {},
   "outputs": [],
   "source": [
    "import numpy as np\n",
    "from scipy.spatial.distance import cdist\n",
    "\n",
    "from pymoo.algorithms.so_cuckoo_search import MantegnasAlgorithm\n",
    "from pymoo.algorithms.genetic_algorithm import GeneticAlgorithm\n",
    "from pymoo.decomposition.tchebicheff import Tchebicheff2\n",
    "from pymoo.util.nds.non_dominated_sorting import NonDominatedSorting\n",
    "from pymoo.model.infill import InfillCriterion\n",
    "from pymoo.factory import get_decomposition\n",
    "from pymoo.model.individual import Individual\n",
    "from pymoo.model.population import Population\n",
    "from pymoo.operators.crossover.simulated_binary_crossover import SimulatedBinaryCrossover\n",
    "from pymoo.operators.mutation.polynomial_mutation import PolynomialMutation\n",
    "from pymoo.operators.sampling.random_sampling import FloatRandomSampling\n",
    "from pymoo.util.display import MultiObjectiveDisplay\n",
    "from pymoo.util.misc import set_if_none\n",
    "from pymoo.operators.repair.to_bound import set_to_bounds_if_outside_by_problem\n",
    "\n",
    "\n",
    "\n",
    "\n",
    "# =========================================================================================================\n",
    "# Implementation\n",
    "# =========================================================================================================\n",
    "class Modified_RW(InfillCriterion):\n",
    "\n",
    "    def __init__(self, alpha, beta, pa, **kwargs):\n",
    "        super().__init__(**kwargs)\n",
    "        self.alpha = alpha\n",
    "        self.levy = MantegnasAlgorithm(beta)\n",
    "        self.mutation = PolynomialMutation(prob=None, eta=20)\n",
    "        self.pa = pa        \n",
    "        \n",
    "     #E is the neighbourhood in the form of indexes\n",
    "    #i is the current solution to be modified\n",
    "    def _grw(self, problem,  pop, E, i):\n",
    "        #choose 1 random solution index from E        \n",
    "        X = pop.get(\"X\")\n",
    "        r1 = np.random.choice(E, 1)[0]\n",
    "        dvec = self.alpha*(X[r1] - X[i])*self.levy.do(problem.n_var)\n",
    "        _x = X[i] + dvec\n",
    "        _x = set_to_bounds_if_outside_by_problem(problem, _x[None, :])\n",
    "        \n",
    "        off = Population.new(X=_x)\n",
    "        off = self.mutation.do(problem, off)\n",
    "        return off\n",
    "    \n",
    "    def _lrw(self, problem, pop, E, i):\n",
    "        r1, r2 = np.random.choice(E, 2, replace=False)\n",
    "        X = pop.get(\"X\")\n",
    "        \n",
    "        eps = np.random.rand()\n",
    "        dvec = eps*(X[r1]-X[r2])\n",
    "        if np.random.rand() > self.pa:\n",
    "            dvec = 0\n",
    "        _x = X[i] + dvec\n",
    "        _x = set_to_bounds_if_outside_by_problem(problem, _x[None, :])\n",
    "        \n",
    "        off = Population.new(X=_x)\n",
    "        return off\n",
    "\n",
    "    def _do(self, problem, pop, n_offsprings, parents=None, **kwargs):        \n",
    "        if parents is None:\n",
    "            raise Exception(\"parents cannot be None, must be [Neighbors, idx, op]\")\n",
    "        neighbors, idx, op = parents\n",
    "        if op==0:\n",
    "            off = self._grw(problem, pop, neighbors, idx)\n",
    "        else:\n",
    "            off = self._lrw(problem, pop, neighbors, idx)\n",
    "        return off\n",
    "\n",
    "       \n",
    "\n",
    "class MOEAD_CS(GeneticAlgorithm):\n",
    "\n",
    "    def __init__(self,\n",
    "                 ref_dirs,                             \n",
    "                 alpha=1,\n",
    "                 beta=1.5,\n",
    "                 c=5,\n",
    "                 n_replacement=2,\n",
    "                 n_neighbors=None,\n",
    "                 decomposition=Tchebicheff2(),\n",
    "                 pa=0.25,\n",
    "                 prob_neighbor_mating=0.9,\n",
    "                 display=MultiObjectiveDisplay(),\n",
    "                 **kwargs):\n",
    "        \"\"\"\n",
    "\n",
    "        MOEAD_CS Algorithm.\n",
    "\n",
    "        Parameters\n",
    "        ----------\n",
    "        ref_dirs\n",
    "        n_neighbors\n",
    "        decomposition\n",
    "        prob_neighbor_mating\n",
    "        display\n",
    "        kwargs\n",
    "        \"\"\"\n",
    "        set_if_none(kwargs, 'pop_size', len(ref_dirs))\n",
    "        set_if_none(kwargs, 'sampling', FloatRandomSampling())\n",
    "        set_if_none(kwargs, 'survival', None)\n",
    "        set_if_none(kwargs, 'selection', None)\n",
    "\n",
    "        mating = Modified_RW(alpha=alpha, beta=beta, pa=pa)\n",
    "        super().__init__(display=display, mating=mating, **kwargs)\n",
    "        \n",
    "        self.nds = NonDominatedSorting()\n",
    "        self.ref_dirs = ref_dirs\n",
    "        self.n_neighbors = n_neighbors\n",
    "        if self.n_neighbors is None:\n",
    "            self.n_neighbors = int(self.pop_size/10)\n",
    "        self.n_replacement = n_replacementL\n",
    "        self.prob_neighbor_mating = prob_neighbor_mating\n",
    "        self.decomposition = decomposition\n",
    "        self.alpha = alpha\n",
    "        self.levy = MantegnasAlgorithm(beta)\n",
    "        \n",
    "        #parameters for adaptive operators\n",
    "        self.c = c\n",
    "        self.W = int(self.pop_size/2)\n",
    "        self.used_op = np.full(self.W, -1)\n",
    "        self.op_rewards = np.full(self.W, 0)\n",
    "        self.sw_idx = 0\n",
    "        \n",
    "        # neighbours includes the entry by itself intentionally for the survival method\n",
    "        self.neighbors = np.argsort(cdist(self.ref_dirs, self.ref_dirs), axis=1, kind='quicksort')\n",
    "        self.neighbors = self.neighbors[:, :self.n_neighbors]\n",
    "\n",
    "    def _initialize(self):\n",
    "        if isinstance(self.decomposition, str):\n",
    "            decomp = self.decomposition\n",
    "            self._decomposition = get_decomposition(decomp)\n",
    "        else:\n",
    "            self._decomposition = self.decomposition\n",
    "\n",
    "        #init population and save ideal & nadir point\n",
    "        super()._initialize()\n",
    "        self.ideal_point = np.min(self.pop.get(\"F\"), axis=0)\n",
    "        pf = self.nds.do(self.pop.get(\"F\"), only_non_dominated_front=True)\n",
    "        self.nadir_point = np.max(pf, axis=0)\n",
    "        max_angles = self._calc_max_angle(self.ref_dirs, self.pop.get(\"F\"))\n",
    "        self.pop.set(\"max_angle\", max_angles)\n",
    "        \n",
    "    def _calc_max_angle(self, w, F):\n",
    "        f = F-self.ideal_point\n",
    "        cos = np.dot(f, w.T) / np.dot(np.linalg.norm(f, axis=1), np.linalg.norm(w, axis=1))\n",
    "        angles = np.arccos(cos)\n",
    "        return np.max(angles, axis=1)\n",
    "        \n",
    "    #operator index : 0->Global Random Walk 1->Local Random Walk\n",
    "    def _calc_op_score(self, FRR, op_freq):\n",
    "        op_freq_ratio = self.c + np.sqrt(2*np.log(np.sum(op_freq))/op_freq)\n",
    "        score = FRR + op_freq_ratio\n",
    "        return score\n",
    "    \n",
    "    def _choose_op(self):\n",
    "        I_op = [self.used_op == 0, self.used_op == 1]\n",
    "        op_freq = np.array([len(self.used_op[I_op[0]]), len(self.used_op[I_op[1]])])\n",
    "        #if there is an unused operator then randomly pick from the two\n",
    "        if op_freq[0]==0 or op_freq[1]==0:\n",
    "            return np.random.randint(2)\n",
    "        reward0 = np.sum(self.op_rewards[I_op[0]])\n",
    "        reward1 = np.sum(self.op_rewards[I_op[1]])\n",
    "        tot_rewards = np.sum(self.op_rewards)\n",
    "        FRR = np.array([reward0, reward1])\n",
    "        op_score = self._calc_op_score(FRR, op_freq)\n",
    "        return np.argmin(op_score)\n",
    "    \n",
    "    def _next(self):\n",
    "        op = self._choose_op()\n",
    "        for idx in range(self.pop_size):\n",
    "            if np.random.rand() <= self.prob_neighbor_mating:\n",
    "                E = self.neighbors[idx]            \n",
    "            else:\n",
    "                E = np.arange(self.pop_size)                    \n",
    "\n",
    "            parents = np.array([E, idx, op], dtype='object')\n",
    "            off = self.mating.do(self.problem, self.pop, 1, parents=parents, algorithm=self)\n",
    "            self.evaluator.eval(self.problem, off)\n",
    "            \n",
    "            self.ideal_point = np.min(np.vstack([self.ideal_point, off.get(\"F\")]), axis=0)\n",
    "\n",
    "            max_angles_old = self.pop.get(\"max_angle\")[E]\n",
    "            w = self.ref_dirs[E]\n",
    "            f = np.tile(off.get(\"F\"), (len(E), 1))\n",
    "            max_angles_new = self._calc_max_angle(w, f)\n",
    "\n",
    "            FV = self._decomposition.do(self.pop[E].get(\"F\"), weights=self.ref_dirs[E], ideal_point=self.ideal_point)\n",
    "            off_FV = self._decomposition.do(f, weights=self.ref_dirs[E], ideal_point=self.ideal_point)\n",
    "\n",
    "            #update solutions by off\n",
    "            #if tch score improved  and in max angle area of the current solution\n",
    "            index_permut = np.random.permutation(len(E))\n",
    "            FIR = 0\n",
    "            nr  = 0\n",
    "            for jdx in index_permut:\n",
    "                g = (FV[jdx] - off_FV[jdx])/FV[jdx]\n",
    "                dt = max_angles_old[jdx] - max_angles_new[jdx]\n",
    "\n",
    "                if g>=0 and dt>=0:\n",
    "                    self.pop[E[jdx]] = off[0]\n",
    "                    self.pop[E[jdx]].set(\"max_angle\", max_angles_new[jdx])\n",
    "                    FIR += g\n",
    "                    nr += 1\n",
    "                    if nr == self.n_replacement:\n",
    "                        break\n",
    "\n",
    "            #record used operator and the reward (improvement rate) obtained \n",
    "            self.op_rewards[self.sw_idx] = FIR\n",
    "            self.used_op[self.sw_idx] = op\n",
    "            self.sw_idx = (self.sw_idx+1) % self.W\n",
    "\n",
    "        #update nadir point\n",
    "        pf = self.nds.do(self.pop.get(\"F\"), only_non_dominated_front=True)\n",
    "        self.nadir_point = np.max(pf, axis=0)\n",
    "\n",
    "        #update max angles\n",
    "        max_angles = self._calc_max_angle(self.ref_dirs, self.pop.get(\"F\"))\n",
    "        self.pop.set(\"max_angle\", max_angles)\n",
    "               \n",
    "# parse_doc_string(MOEAD.__init__)\n"
   ]
  },
  {
   "cell_type": "code",
   "execution_count": 59,
   "metadata": {
    "code": "algorithms/usage_ga.py",
    "scrolled": true
   },
   "outputs": [
    {
     "name": "stdout",
     "output_type": "stream",
     "text": [
      "50.57150053977966\n"
     ]
    },
    {
     "data": {
      "image/png": "[encoded data removed]",
      "text/plain": [
       "<Figure size 576x432 with 1 Axes>"
      ]
     },
     "metadata": {
      "needs_background": "light"
     },
     "output_type": "display_data"
    }
   ],
   "source": [
    "from pymoo.factory import get_problem, get_visualization, get_reference_directions\n",
    "from pymoo.optimize import minimize\n",
    "from pymoo.visualization.scatter import Scatter\n",
    "\n",
    "problem = get_problem(\"wfg1\", n_var=8, n_obj=2)\n",
    "n_obj = 2\n",
    "ref_dirs = get_reference_directions(\"das-dennis\", n_obj, n_partitions=99)\n",
    "algorithm = MOEAD_CS(ref_dirs=ref_dirs)\n",
    "res = minimize(problem, algorithm, termination=('n_eval', 25000))\n",
    "print(res.exec_time)\n",
    "if n_obj == 2:\n",
    "    plot = Scatter()\n",
    "    plot.add(problem.pareto_front(), plot_type=\"line\", color=\"black\", alpha=0.7)\n",
    "    plot.add(res.F, color=\"red\")\n",
    "    plot.show()\n",
    "else:\n",
    "    plot = Scatter().add(res.F)\n",
    "    plot.show()"
   ]
  },
  {
   "cell_type": "markdown",
   "metadata": {},
   "source": [
    "### API"
   ]
  },
  {
   "cell_type": "code",
   "execution_count": 31,
   "metadata": {},
   "outputs": [
    {
     "name": "stdout",
     "output_type": "stream",
     "text": [
      "[ True False False  True False False  True  True  True]\n",
      "[1 1 1 1 1]\n"
     ]
    }
   ],
   "source": [
    "import numpy as np\n",
    "A = np.array([1,2,3,1,2,3,1,1,1])\n",
    "print(A==1)\n",
    "print(A[A==1])"
   ]
  },
  {
   "cell_type": "raw",
   "metadata": {
    "raw_mimetype": "text/restructuredtext"
   },
   "source": [
    ".. autofunction:: pymoo.algorithms.so_cuckoo_search.CuckooSearch\n",
    "    :noindex:"
   ]
  }
 ],
 "metadata": {
  "celltoolbar": "Raw Cell Format",
  "kernelspec": {
   "display_name": "Python 3",
   "language": "python",
   "name": "python3"
  },
  "language_info": {
   "codemirror_mode": {
    "name": "ipython",
    "version": 3
   },
   "file_extension": ".py",
   "mimetype": "text/x-python",
   "name": "python",
   "nbconvert_exporter": "python",
   "pygments_lexer": "ipython3",
   "version": "3.6.12"
  }
 },
 "nbformat": 4,
 "nbformat_minor": 4
}
